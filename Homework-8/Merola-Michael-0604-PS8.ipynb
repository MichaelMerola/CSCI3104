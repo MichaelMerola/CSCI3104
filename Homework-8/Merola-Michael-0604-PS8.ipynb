{
 "cells": [
  {
   "cell_type": "markdown",
   "metadata": {},
   "source": [
    "CSCI 3104 Spring 2018\n",
    "\n",
    "Problem Set 8\n",
    "\n",
    "Merola, Michael\n",
    "\n",
    "06/04/1998\n",
    "\n",
    "# Problem Set 8\n",
    "***"
   ]
  },
  {
   "cell_type": "code",
   "execution_count": 1,
   "metadata": {
    "collapsed": true
   },
   "outputs": [],
   "source": [
    "import pandas as pd\n",
    "import numpy as np\n",
    "import matplotlib.pylab as plt\n",
    "%matplotlib inline"
   ]
  },
  {
   "cell_type": "markdown",
   "metadata": {},
   "source": [
    "### Problem 1\n",
    "\n",
    "(10 pts) Ginerva Weasley is playing with the network given below. Help her calculate\n",
    "the number of paths from node 1 to node 14.\n",
    "\n",
    "Hint: assume a “path” must have at least one edge in it to be well defined, and use\n",
    "dynamic programming to fill in a table that counts number of paths from each node j\n",
    "to 14, starting from 14 down to 1.\n",
    "\n",
    "***"
   ]
  },
  {
   "cell_type": "markdown",
   "metadata": {},
   "source": [
    "I solved this problem by hand using a recurrence starting from node 6:\n",
    "\n",
    "a1 : $6 \\rightarrow 14 = 2 paths$\n",
    "\n",
    "a2 : $5 \\rightarrow 14 = a1 + 5 = 7$ ...paths from the last node plus new paths \n",
    "\n",
    "a3 : $4 \\rightarrow 14 = a2 + 7 = 14$\n",
    "\n",
    "a4 : $3 \\rightarrow 14 = a3 + 4 = 18$\n",
    "\n",
    "a5 : $2 \\rightarrow 14 = a4 + 8 = 26$\n",
    "\n",
    "a6 : $1 \\rightarrow 14 = a5 + 4 = 30$\n",
    "\n",
    "*so* there are **30** paths from node 1 to node 14\n",
    "\n",
    "***"
   ]
  },
  {
   "cell_type": "markdown",
   "metadata": {},
   "source": [
    "### Problem 2\n",
    "\n",
    "(10 pts) Ginny Weasley needs your help with her wizardly\n",
    "  homework. She’s trying to come up with an example of a directed\n",
    "  graph $G = (V, E)$, a start vertex $v \\in V$ and a set of tree edges\n",
    "  $E_T \\subseteq E$ such that for each vertex $v \\in V$, the unique path in the\n",
    "  graph $(V, E_T)$ from $s$ to $v$ is a shortest path in $G$, yet the\n",
    "  set of edges $E_T$ cannot be produced by running a depth-first\n",
    "  search on $G$, no matter how the vertices are ordered in each\n",
    "  adjacency list. Include an explanation of why your example satisfies\n",
    "  the requirements."
   ]
  },
  {
   "cell_type": "code",
   "execution_count": null,
   "metadata": {
    "collapsed": true
   },
   "outputs": [],
   "source": []
  },
  {
   "cell_type": "markdown",
   "metadata": {},
   "source": [
    "# Sources\n",
    "***\n",
    "### People\n",
    "Krish Dholakiya\n",
    "\n",
    "Gustav Solis\n",
    "\n",
    "George Allison\n",
    "\n",
    "Selena Quintilla\n",
    "\n",
    "Eric Weng\n",
    "\n",
    "***"
   ]
  },
  {
   "cell_type": "code",
   "execution_count": null,
   "metadata": {
    "collapsed": true
   },
   "outputs": [],
   "source": []
  }
 ],
 "metadata": {
  "kernelspec": {
   "display_name": "Python 3",
   "language": "python",
   "name": "python3"
  },
  "language_info": {
   "codemirror_mode": {
    "name": "ipython",
    "version": 3
   },
   "file_extension": ".py",
   "mimetype": "text/x-python",
   "name": "python",
   "nbconvert_exporter": "python",
   "pygments_lexer": "ipython3",
   "version": "3.6.3"
  }
 },
 "nbformat": 4,
 "nbformat_minor": 2
}

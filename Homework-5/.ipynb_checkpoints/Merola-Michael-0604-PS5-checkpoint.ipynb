{
 "cells": [
  {
   "cell_type": "markdown",
   "metadata": {},
   "source": [
    "CSCI 3104 Spring 2018\n",
    "\n",
    "Problem Set 5\n",
    "\n",
    "Merola, Michael\n",
    "\n",
    "06/04/1998\n",
    "\n",
    "# Problem Set 5\n",
    "***"
   ]
  },
  {
   "cell_type": "code",
   "execution_count": 5,
   "metadata": {
    "collapsed": true
   },
   "outputs": [],
   "source": [
    "import pandas as pd\n",
    "import numpy as np\n",
    "import matplotlib.pylab as plt\n",
    "%matplotlib inline\n",
    "\n",
    "namedata_path = 'https://www2.census.gov/topics/genealogy/1990surnames/dist.all.last'"
   ]
  },
  {
   "cell_type": "markdown",
   "metadata": {},
   "source": [
    "### Problem 1\n",
    "\n",
    "(15 pts) Bellatrix Lestrange is writing a secret message to Voldemort and wants to\n",
    "prevent it from being understood by meddlesome young wizards and Muggles. She\n",
    "decides to use Huffman encoding to encode the message. Magically, the symbol frequencies\n",
    "of the message are given by the Pell numbers, a famous sequence of integers\n",
    "known since antiquity and related to the Fibonacci numbers. The nth Pell number is\n",
    "defined as Pn = 2 Pn−1 + Pn−2 for n > 1 with base cases P0 = 0 and P1 = 1.\n",
    "\n",
    "***"
   ]
  },
  {
   "cell_type": "markdown",
   "metadata": {},
   "source": [
    "(a) For an alphabet of Σ = {a, b, c, d, e, f, g, h} with frequencies given by the first\n",
    "|Σ| non-zero Pell numbers, give an optimal Huffman code and the corresponding\n",
    "encoding tree for Bellatrix to use.\n"
   ]
  },
  {
   "cell_type": "markdown",
   "metadata": {},
   "source": [
    "<img src=\"https://github.com/MichaelMerola/CSCI3104/blob/master/Homework-5/huffman.jpg?raw=true\" style=\"width:300px;height:300px;transform:rotate(90deg)\">\n",
    "\n",
    "a = [0000000]\n",
    "\n",
    "b = [0000001]\n",
    "\n",
    "c = [000001]\n",
    "\n",
    "d = [00001]\n",
    "\n",
    "e = [0001]\n",
    "\n",
    "f = [001]\n",
    "\n",
    "g = [01]\n",
    "\n",
    "h = [1]\n",
    "\n",
    "***"
   ]
  },
  {
   "cell_type": "markdown",
   "metadata": {},
   "source": [
    "(b) Generalize your answer to (1a) and give the structure of an optimal code when\n",
    "the frequencies are the first n non-zero Pell numbers."
   ]
  },
  {
   "cell_type": "code",
   "execution_count": null,
   "metadata": {
    "collapsed": true
   },
   "outputs": [],
   "source": [
    "for i in range(0, n)\n",
    "    if (i == 1):\n",
    "        #code = n-1 zeroes  (ex.. n=5 so 0000)\n",
    "    else\n",
    "        #code = n-i-1 zeroes + one (ex.. n=5 so 0001)"
   ]
  },
  {
   "cell_type": "markdown",
   "metadata": {},
   "source": [
    "### Problem 2\n",
    "\n",
    "(30 pts) A good hash function $h(x)$ behaves in practice very close to the uniform hashing\n",
    "assumption analyzed in class, but is a deterministic function. That is, $h(x) = k$ each\n",
    "time $x$ is used as an argument to $h(x)$. Designing good hash functions is hard, and a\n",
    "bad hash function can cause a hash table to quickly exit the sparse loading regime by\n",
    "overloading some buckets and under loading others. Good hash functions often rely\n",
    "on beautiful and complicated insights from number theory, and have deep connections\n",
    "to pseudorandom number generators and cryptographic functions. In practice, most\n",
    "hash functions are moderate to poor approximations of uniform hashing.\n",
    "\n",
    "Consider the following hash function. Let $U$ be the universe of strings composed of the\n",
    "characters from the alphabet $\\Sigma = [A, \\dots ,Z]$, and let the function $f(x_i)$ return the index\n",
    "of a letter $x_i \\in \\Sigma$, e.g., $f(A)=1$ and $f(Z)=26$. Finally, for an \\textbf{m}-character string\n",
    "$x \\in \\Sigma^m$, define $h(x)=([\\sum_{i=1}^m f(x_i)] \\ \\text{mod} \\ l)$, where $l$ is the number of buckets in the hash table. That is, our hash function sums up the index values of the characters of a\n",
    "string $x$ and maps that value onto one of the $l$ buckets.\n",
    "\n",
    "***"
   ]
  },
  {
   "cell_type": "markdown",
   "metadata": {},
   "source": [
    "(a) The following list contains US Census derived last names:\n",
    "    \n",
    "http://www2.census.gov/topics/genealogy/1990surnames/dist.all.last\n",
    "\n",
    "Using these names as input strings, first choose a uniformly random 50% of these\n",
    "name strings and then hash them using $h(x)$.\n",
    "\n",
    "Produce a histogram showing the corresponding distribution of hash locations\n",
    "when $l = 200$. Label the axes of your figure. Briefly describe what the figure\n",
    "shows about $h(x)$, and justify your results in terms of the behavior of $h(x)$. Do\n",
    "not forget to append your code.\n",
    "\n",
    "Hint: the raw file includes information other than name strings, which will need to be removed; and, think about how you can count hash locations without building or using a real hash table.\n"
   ]
  },
  {
   "cell_type": "code",
   "execution_count": 34,
   "metadata": {},
   "outputs": [],
   "source": [
    "def hashNames(personName, num_bins):\n",
    "    \n",
    "    if (isinstance(personName,str) == False):\n",
    "        return -1\n",
    "    \n",
    "    letters = {\"A\" : 1, \"B\" : 2, \"C\" : 3, \"D\" : 4, \"E\" : 5, \"F\" : 6, \"G\" : 7, \"H\" : 8, \"I\" : 9, \"J\" : 10, \"K\" : 11,\n",
    "               \"L\" : 12, \"M\" : 13, \"N\" : 14, \"O\" : 15, \"P\" : 16, \"Q\" : 17, \"R\" : 18, \"S\" : 19, \"T\" : 20, \"U\" : 21,\n",
    "               \"V\" : 22, \"W\" : 23, \"X\" : 24, \"Y\" : 25, \"Z\" : 26}\n",
    "    bins = num_bins\n",
    "    sumHash = 0\n",
    "    \n",
    "    for i in personName:\n",
    "        sumHash = sumHash + letters[i] \n",
    "        \n",
    "    return sumHash%bins\n",
    "    "
   ]
  },
  {
   "cell_type": "code",
   "execution_count": 37,
   "metadata": {},
   "outputs": [
    {
     "data": {
      "image/png": "[encoded data removed]",
      "text/plain": [
       "<matplotlib.figure.Figure at 0x1d4c44b7390>"
      ]
     },
     "metadata": {},
     "output_type": "display_data"
    }
   ],
   "source": [
    "\n",
    "dfNames = pd.read_csv(namedata_path, delim_whitespace=True,header=None,usecols=[0])\n",
    "dfNames_sample = dfNames.sample(frac=0.5) #sample random 50% of names\n",
    "dfNames_sample.head()\n",
    "\n",
    "names = list(dfNames[0])\n",
    "hashed_names = np.array(names)\n",
    "l = 200 #number of bins\n",
    "\n",
    "for i in range(0, len(names)):\n",
    "    hashed_names[i] = hashNames(names[i], l) \n",
    "    \n",
    "plt.hist(hashed_names)\n",
    "\n",
    "plt.xlabel(\"Hash\")\n",
    "plt.ylabel(\"Frequency\")\n",
    "\n",
    "plt.show()\n"
   ]
  },
  {
   "cell_type": "markdown",
   "metadata": {},
   "source": [
    "(b) Enumerate at least 4 reasons why h(x) is a bad hash function relative to the ideal\n",
    "behavior of uniform hashing."
   ]
  },
  {
   "cell_type": "markdown",
   "metadata": {},
   "source": [
    "1) The distribution of hashes across the bins are not distributed uniformly, but instead are left-skewed.\n",
    "\n",
    "2) Names that contain the same letters but in different orders will be hashed at the same value\n",
    "\n",
    "3) This function doesn't assign names to a very large amount of bins in the center of the distribution\n",
    "\n",
    "4) Because of the numerous collisions in the hash table, it will be impossible to find most values without implementing another data structure like a linked-list at each hash. Due to this, accessing elements will be inefficient. It would be ideal to have much less collisions.\n",
    "\n",
    "***"
   ]
  },
  {
   "cell_type": "markdown",
   "metadata": {},
   "source": [
    "(c) Produce a plot showing (i) the length of the longest chain (were we to use chaining for resolving collisions) as a function of the number $n$ of these strings that we hash\n",
    "into a table with $l = 200$ buckets, and (ii) the exact upper bound on the depth\n",
    "of a red-black tree with $n$ items stored.\n",
    "\n",
    "Then, (i) comment on the value of $n$ at which the red-black tree becomes a more\n",
    "efficient data structure, and (ii) state the length of the longest chain when every\n",
    "bucket has at least one hash hit."
   ]
  },
  {
   "cell_type": "code",
   "execution_count": null,
   "metadata": {
    "collapsed": true
   },
   "outputs": [],
   "source": [
    "# I don't know"
   ]
  },
  {
   "cell_type": "markdown",
   "metadata": {},
   "source": [
    "### Problem 3\n",
    "\n"
   ]
  },
  {
   "cell_type": "markdown",
   "metadata": {},
   "source": [
    "(15 pts) Draco Malfoy is struggling with the problem of making change for $n$ cents\n",
    "using the smallest number of coins. Malfoy has coin values of $v_1 < v_2 < \\dots < v_r $ for r\n",
    "coins types, where each coin’s value $v_i$ is a positive integer. His goal is to obtain a set\n",
    "of counts $\\{ d_i \\}$, one for each coin type, such that $\\sum_{i=1}^r d_i=k$ and where $k$ is minimized.\n",
    "\n",
    "***"
   ]
  },
  {
   "cell_type": "markdown",
   "metadata": {},
   "source": [
    "(a) A greedy algorithm for making change is the cashier’s algorithm, which all\n",
    "young wizards learn. Malfoy writes the following pseudocode on the whiteboard\n",
    "to illustrate it, where n is the amount of money to make change for and v is a\n",
    "vector of the coin denominations:"
   ]
  },
  {
   "cell_type": "code",
   "execution_count": null,
   "metadata": {
    "collapsed": true
   },
   "outputs": [],
   "source": [
    "def wizardChange(n,v,r) :\n",
    "    d[1 .. r] = 0 #initial histogram of coin types in solution\n",
    "    while (n > 0) :\n",
    "        k = 1\n",
    "        while ( k < r and v[k] > n ):\n",
    "            k++\n",
    "            \n",
    "        if k==r :\n",
    "            return \"no solution\" \n",
    "        else : \n",
    "            n = n - v[k] \n",
    "        \n",
    "    return d"
   ]
  },
  {
   "cell_type": "markdown",
   "metadata": {},
   "source": [
    "Hermione snorts and says Malfoy’s code has bugs. Identify the bugs and explain\n",
    "why each would cause the algorithm to fail."
   ]
  },
  {
   "cell_type": "markdown",
   "metadata": {},
   "source": [
    "**Bugs:**\n",
    "\n",
    "    1 // while ( k < r and v[k] > n ): //\n",
    "    2 // if k==r : return \"no solution\" //\n",
    "    3 // d array is never updated //\n",
    "    \n",
    "**Explanation**\n",
    "\n",
    "1) The while condition schould instead check that (v[k] <= n) which will check that the denomination of coin is less than the total number of change. The while loop wil then continue until the denomination is greater than the coin.\n",
    "\n",
    "2) k being at the same values of r should still run the same function in the else statement, so we should remove the if/else statement and just have \"n = n - v[k] \"\n",
    "\n",
    "3) We need to update the d array in the loop before returning it at the end of the function\n",
    "\n",
    "***"
   ]
  },
  {
   "cell_type": "markdown",
   "metadata": {},
   "source": [
    "(b) Sometimes the goblins at Gringotts Wizarding Bank run out of coins, and make\n",
    "change using whatever is left on hand. Identify a set of U.S. coin denominations\n",
    "for which the greedy algorithm does not yield an optimal solution. Justify your answer in terms of optimal substructure and the greedy-choice property. (The set should include a penny so that there is a solution for every value of n.)\n",
    "\n"
   ]
  },
  {
   "cell_type": "markdown",
   "metadata": {},
   "source": [
    "Denominations: [1, 10, 25]\n",
    "\n",
    "The greedy algorithm would not yield the optimal solution if the goblin had to make change for 80 cents.\n",
    "\n",
    "Greedy:  25+25+25+[1+1+1+1+1] == 8 coins\n",
    "Optimal: 25+25+[10+10+10] == 5 coins\n",
    "\n",
    "***\n"
   ]
  },
  {
   "cell_type": "markdown",
   "metadata": {},
   "source": [
    "(8 pts extra credit) On the advice of computer scientists, Gringotts has announced that they will be changing all wizard coin denominations into a new set of coins denominated in powers of $c$, i.e., denominations of $c_0$, $c_1$, $\\dots$, $c^l$ for some integers $c > 1$ and $l \\ge 1$. (This will be done by a spell that will magically transmute old\n",
    "coins into new coins, before your very eyes.) Prove that the cashier’s algorithm will always yield an optimal solution in this case."
   ]
  },
  {
   "cell_type": "markdown",
   "metadata": {},
   "source": [
    "_Prove the cashier's algorithm is correctly yielding an optimal solution for n coins using loop invariant_\n",
    "\n",
    "**Invariant:** n coins can always be solved with $c_n$ coins\n",
    "\n",
    "**Initialization:** n=1 which could be solved optimally by using 1 coin\n",
    "\n",
    "**Maintenance:**    1 < n < l where l coins can be solved by $c_l$ coins\n",
    "\n",
    "**Termination:**    n = l which can be solved by using l coins\n"
   ]
  },
  {
   "cell_type": "markdown",
   "metadata": {},
   "source": [
    "# Sources\n",
    "***\n",
    "### People\n",
    "Krish Dholakiya\n",
    "\n",
    "Gustav Solis\n",
    "\n",
    "***"
   ]
  },
  {
   "cell_type": "code",
   "execution_count": null,
   "metadata": {
    "collapsed": true
   },
   "outputs": [],
   "source": []
  }
 ],
 "metadata": {
  "kernelspec": {
   "display_name": "Python 3",
   "language": "python",
   "name": "python3"
  },
  "language_info": {
   "codemirror_mode": {
    "name": "ipython",
    "version": 3
   },
   "file_extension": ".py",
   "mimetype": "text/x-python",
   "name": "python",
   "nbconvert_exporter": "python",
   "pygments_lexer": "ipython3",
   "version": "3.6.3"
  }
 },
 "nbformat": 4,
 "nbformat_minor": 2
}

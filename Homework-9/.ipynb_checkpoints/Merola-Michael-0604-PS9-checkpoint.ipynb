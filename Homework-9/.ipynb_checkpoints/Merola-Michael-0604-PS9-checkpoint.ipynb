{
 "cells": [
  {
   "cell_type": "markdown",
   "metadata": {},
   "source": [
    "CSCI 3104 Spring 2018\n",
    "\n",
    "Problem Set 9\n",
    "\n",
    "Merola, Michael\n",
    "\n",
    "06/04/1998\n",
    "\n",
    "# Problem Set 9\n",
    "***"
   ]
  },
  {
   "cell_type": "code",
   "execution_count": 1,
   "metadata": {
    "collapsed": true
   },
   "outputs": [],
   "source": [
    "import pandas as pd\n",
    "import numpy as np\n",
    "import matplotlib.pylab as plt\n",
    "%matplotlib inline"
   ]
  },
  {
   "cell_type": "markdown",
   "metadata": {},
   "source": [
    "### Problem 1\n",
    "\n",
    "(10 pts) Let $G = (V, E)$ be a graph with an edge-weight function $w$, and let the tree\n",
    "$T \\subseteq E$ be a minimum spanning tree on $G$. Now, suppose that we modify $G$ slightly by\n",
    "decreasing the weight of exactly one of the edges in $(x, y) \\in T$ in order to produce a\n",
    "new graph $G'$. Here, you will prove that the original tree $T$ is still a minimum spanning\n",
    "tree for the modified graph $G'$.\n",
    "\n",
    "To get started, let $k$ be a positive number and define the weight function $w'$ as\n",
    "\n",
    "$$\n",
    "w'(u,v) =\n",
    "  \\begin{cases}\n",
    "    w(u,v) & \\text{if $(u,v) \\ne (x,y)$} \\\\\n",
    "    w(u,v)-k & \\text{if $(u,v) = (x,y)$}\n",
    "  \\end{cases}\n",
    "$$\n",
    "  \n",
    "Now, prove that the tree $T$ is a minimum spanning tree for $G'$, whose edge weights are\n",
    "given by $w'$.\n",
    "\n",
    "***"
   ]
  },
  {
   "cell_type": "markdown",
   "metadata": {
    "collapsed": true
   },
   "source": [
    "**I don't know**\n",
    "\n",
    "***"
   ]
  },
  {
   "cell_type": "markdown",
   "metadata": {},
   "source": [
    "### Problem 2\n",
    "\n",
    "(20 pts) Professor Snape gives you the following unweighted graph and asks you to\n",
    "construct a weight function $w$ on the edges, using positive integer weights only, such\n",
    "that the following conditions are true regarding minimum spanning trees and single-source shortest path trees:\n",
    "\n",
    "    - The MST is distinct from any of the seven SSSP trees.\n",
    "    - The order in which Jarnı́k/Prim’s algorithm adds the safe edges is different from the order in which Kruskal’s algorithm adds them.\n",
    "    - Boru̇vka’s algorithm takes at least two rounds to construct the MST.\n",
    "    \n",
    "Justify your solution by (i) giving the edges weights, (ii) showing the corresponding\n",
    "MST and all the SSSP trees, and (iii) giving the order in which edges are added by\n",
    "each of the three algorithms. (For Boru̇vka’s algorithm, be sure to denote which edges\n",
    "are added simultaneously in a single round.)"
   ]
  },
  {
   "cell_type": "markdown",
   "metadata": {
    "collapsed": true
   },
   "source": [
    "**I don't know**\n",
    "\n",
    "***"
   ]
  },
  {
   "cell_type": "markdown",
   "metadata": {},
   "source": [
    "### Problem 3\n",
    "\n",
    "  "
   ]
  },
  {
   "cell_type": "markdown",
   "metadata": {
    "collapsed": true
   },
   "source": [
    "**I don't know**\n",
    "\n",
    "***"
   ]
  },
  {
   "cell_type": "markdown",
   "metadata": {},
   "source": [
    "### Problem 4\n",
    "\n",
    "(40 pts) Bidirectional breadth-first search is a variant of standard BFS for finding a\n",
    "shortest path between two vertices $s, t \\in V(G)$. The idea is to run two breadth-first\n",
    "searches simultanesouly, one starting from $s$ and one starting from $t$, and stop when\n",
    "they “meet in the middle” (that is, whenever a vertex is encountered by both searches).\n",
    "\"Simultaneously\" here doesn’t assume you have multiple processors at your disposal;\n",
    "it’s enough to alternate iterations of the searches: one iteration of the loop for the BFS\n",
    "that started at $s$ and one iteration of the loop for the BFS that started at $t$.\n",
    "\n",
    "As we’ll see, although the worst-case running time of BFS and Bidirectional BFS are\n",
    "asymptotically the same, in practice Bidirectional BFS often performs significantly\n",
    "better.\n",
    "\n",
    "Throughout this problem, all graphs are unweighted, undirected, simple graphs."
   ]
  },
  {
   "cell_type": "markdown",
   "metadata": {
    "collapsed": true
   },
   "source": [
    "**I don't know**\n",
    "\n",
    "***"
   ]
  },
  {
   "cell_type": "code",
   "execution_count": null,
   "metadata": {
    "collapsed": true
   },
   "outputs": [],
   "source": []
  }
 ],
 "metadata": {
  "kernelspec": {
   "display_name": "Python 3",
   "language": "python",
   "name": "python3"
  },
  "language_info": {
   "codemirror_mode": {
    "name": "ipython",
    "version": 3
   },
   "file_extension": ".py",
   "mimetype": "text/x-python",
   "name": "python",
   "nbconvert_exporter": "python",
   "pygments_lexer": "ipython3",
   "version": "3.6.3"
  }
 },
 "nbformat": 4,
 "nbformat_minor": 2
}

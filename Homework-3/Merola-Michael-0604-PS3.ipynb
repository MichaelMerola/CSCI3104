{
 "cells": [
  {
   "cell_type": "markdown",
   "metadata": {},
   "source": [
    "CSCI 3104 Spring 2018\n",
    "\n",
    "Problem Set 3\n",
    "\n",
    "Merola, Michael\n",
    "\n",
    "06/04/1998\n",
    "\n",
    "# Problem Set 3\n",
    "***"
   ]
  },
  {
   "cell_type": "markdown",
   "metadata": {},
   "source": [
    "### Problem 1\n",
    "\n",
    "(5 pts total) For parts (1a) and (1b), justify your answers in terms of deterministic\n",
    "QuickSort, and for part (1c), refer to Randomized QuickSort. In both cases, refer to\n",
    "the versions of the algorithms given in Lecture 3.\n",
    "\n",
    "***"
   ]
  },
  {
   "cell_type": "markdown",
   "metadata": {},
   "source": [
    "(a) What is the asymptotic running time of QuickSort when every element of the\n",
    "input A is identical, i.e., for 1 ≤ i, j ≤ n, A[i] = A[j]?"
   ]
  },
  {
   "cell_type": "markdown",
   "metadata": {},
   "source": [
    "For the deterministic QuickSort algorithm in any case, best case is $\\theta{(nlog(n))}$ and worst case is $\\theta{(n^2)}$.\n",
    "\n",
    "In the case that A contains all identical elements, the algorithm must still traverse the entire array. Because each value is equal to each other, the algorithm must also swap each element at every comparison. Due to both of these requirements for this case, the complexity is worst-case at $\\theta{(n^2)}$.\n",
    "\n",
    "***"
   ]
  },
  {
   "cell_type": "markdown",
   "metadata": {},
   "source": [
    "(b) Let the input array A = [9, 7, 5, 11, 12, 2, 14, 3, 10, 6]. What is the number of times\n",
    "a comparison is made to the element with value 3?"
   ]
  },
  {
   "cell_type": "markdown",
   "metadata": {},
   "source": [
    "A = [9, 7, 5, 11, 12, 2, 14, 3, 10, 6] ...initial array. **pivot** = 6 and **current** = 9\n",
    "\n",
    "[5, 2, 3] | [6, 9, 7, 11, 12, 14, 10]  ...after 1 run. 3 has been compared once. **pivot** = 3 and **current** = 5\n",
    "\n",
    "[2, 3] | [5] | [,,,] ...after 2 runs. 3 was compared to both 2 and 5, **total comparisons** = 3\n",
    "\n",
    "At this point, 3 has been sorted correctly and will not be touched again by the algorithm. So for this array, the element 3 has made **3** total comparisons during the algorithms run.\n",
    "\n",
    "***"
   ]
  },
  {
   "cell_type": "markdown",
   "metadata": {},
   "source": [
    "(c) How many calls are made to random-int in (i) the worst case and (ii) the best\n",
    "case? Give your answers in asymptotic notation."
   ]
  },
  {
   "cell_type": "markdown",
   "metadata": {},
   "source": [
    "(i) Worst Case: random-int always chooses smallest number\n",
    "\n",
    "note: random-int is called everytime the algo needs a new pivot.\n",
    "\n",
    "A = [4, 3, 5, 1, 8] ...**pivot** = 1\n",
    "\n",
    "A = [1] [4, 3, 5, 8] ...**pivot** = 3\n",
    "\n",
    "A = [1] [3] [4, 5, 8] ...**pivot** = 4\n",
    "\n",
    "A = [1] [3] [4] [5, 8] ...**pivot** = 5\n",
    "\n",
    "The algorithm takes 4 calls to random-int before the array is sorted. n=5, so the complexity is $\\theta{(n-1)}$ or just simply $\\theta{(n)}$\n",
    "\n",
    "(ii) Best Case: random-int always chooses median value\n",
    "\n",
    "A = [8, 3, 5, 1, 4] ...**pivot** = 4\n",
    "\n",
    "A = [3, 1] [4] [8, 5] ...**pivot** = 1, 5\n",
    "\n",
    "A = [1] [3] [4] [5] [8] \n",
    "\n",
    "The algorithm takes 3 calls to random-int before the array is sorted. n=5, so the complexity is $\\theta{(n-2)}$ or just simply $\\theta{(n)}$\n",
    "\n",
    "***"
   ]
  },
  {
   "cell_type": "markdown",
   "metadata": {},
   "source": [
    "### Problem 2\n",
    "\n",
    "(30 pts total) Professor Trelawney has acquired n enchanted crystal balls, of dubious\n",
    "origin and dubious reliability. Trelawney needs your help to identify which crystal balls\n",
    "are accurate and which are inaccurate. She has constructed a strange contraption that\n",
    "fits over two crystal balls at a time to perform a test. When the contraption is activated,\n",
    "each crystal ball glows one of two colors depending on whether the other crystal ball is\n",
    "accurate or not. An accurate crystal ball always glows correctly according to whether\n",
    "the other crystal ball is accurate or not, but the glow of an inaccurate crystal ball\n",
    "cannot be trusted. You quickly notice that there are four possible test outcomes:\n",
    "***"
   ]
  },
  {
   "cell_type": "markdown",
   "metadata": {},
   "source": [
    "(a) Prove that if n/2 or more crystal balls are inaccurate, Trelawney cannot necessarily\n",
    "determine which crystal balls are accurate using any strategy based on\n",
    "this kind of pairwise test. Assume a worst-case scenario in which the inaccurate\n",
    "crystal balls contain malicious spirits that collectively conspire to fool Trelawney."
   ]
  },
  {
   "cell_type": "markdown",
   "metadata": {},
   "source": [
    "Trelawney cannot determine the accuracy of any crystal ball with this method because no scenario of balls paired together can determine which ball has a specific accuracy. If at least $\\frac{n}{2}$ balls in the group are innacurate, than there is a $\\geqslant \\frac{1}{2}$ chance that an inaccurate ball is chosen to be tested in the pair. This means that at least half of the pairs tested will be impossible to tell each ball's accuracy. Otherwise, a pair with both accurate balls will only tell Trelawney that both balls are either innaccurate or accurate; but she still can't determine which. Overall, her contraption is both useless and a waste of time.\n",
    "***"
   ]
  },
  {
   "cell_type": "markdown",
   "metadata": {},
   "source": [
    "(b) Suppose Trelawney knows that more than n/2 of the crystal balls are accurate,\n",
    "but not which ones. Prove that floor(n/2) pairwise tests are sufficient to reduce the\n",
    "problem to one of nearly half the size.\n"
   ]
  },
  {
   "cell_type": "markdown",
   "metadata": {},
   "source": [
    "By only utilizing n/2 pairwise tests, we pair two balls with each other and run a test on each pair. If a pair has any ball that glows red, we remove both balls from the set. This way, we ensure that we remove at least 1 innaccurate ball each time. Worst-case, we remove up to 1 accurate ball each time we remove a pair. Using this method, the ratio between accurate/inaccurate balls remains the same. By the end of the pairwise tests, the scale of the problem has been reduced by half (n = n/2), and the number of accurate balls is stil n/2.\n",
    "***"
   ]
  },
  {
   "cell_type": "markdown",
   "metadata": {},
   "source": [
    "(c) Now, under the same assumptions as part (2b), prove that all of the accurate crystal\n",
    "balls can be identified with Θ(n) pairwise tests. Give and solve the recurrence\n",
    "that describes the number of tests."
   ]
  },
  {
   "cell_type": "markdown",
   "metadata": {},
   "source": [
    "This function is represented by $\\frac{n}{2}$ pairwise crystal-ball tests over $T(\\frac{n}{2})$ ...so...\n",
    "\n",
    "$T(n) = T(\\frac{n}{2}) + \\frac{n}{2}$\n",
    "\n",
    "$= T(\\frac{n}{4}) + \\frac{n}{4} + \\frac{n}{2}$ ......recurrence unrolling\n",
    "\n",
    "$= T(\\frac{n}{8}) + \\frac{n}{8} + \\frac{n}{4} + \\frac{n}{2}$\n",
    "\n",
    "...\n",
    "         \n",
    "$= \\sum_{i=1}^{n} \\frac{n}{2i} $ ......establish sum\n",
    "\n",
    "$= n - 1$\n",
    "\n",
    "Guess: n - 1 = $\\theta{(n)}$\n",
    "\n",
    "$\\lim_{n \\to \\infty} [\\frac{n-1}{n} $ ...l'hopitals rule\n",
    "\n",
    "$\\lim_{n \\to \\infty} [\\frac{1}{1} = 1 $ ...simplify\n",
    "\n",
    "The limit produced a constant number, so the number of pairwise tests is confirmed to be $\\theta{(n)}$\n",
    "\n",
    "***"
   ]
  },
  {
   "cell_type": "markdown",
   "metadata": {},
   "source": [
    "### Problem 3\n",
    "\n",
    "(20 pts) Professor Dumbledore needs your help. He gives you an array A consisting of\n",
    "n integers A[1], A[2], . . . , A[n] and asks you to output a two-dimensional n × n array\n",
    "B in which B[i, j] (for i < j) contains the sum of array elements A[i] through A[j],\n",
    "i.e., B[i, j] = A[i] + A[i + 1] + · · · + A[j]. (The value of array element B[i, j] is left\n",
    "unspecified whenever i ≥ j, so it doesn’t matter what the output is for these values.)\n",
    "\n",
    "Dumbledore suggests the following simple algorithm to solve this problem:\n"
   ]
  },
  {
   "cell_type": "code",
   "execution_count": 2,
   "metadata": {},
   "outputs": [
    {
     "ename": "SyntaxError",
     "evalue": "invalid syntax (<ipython-input-2-cd213584bdeb>, line 2)",
     "output_type": "error",
     "traceback": [
      "\u001b[1;36m  File \u001b[1;32m\"<ipython-input-2-cd213584bdeb>\"\u001b[1;36m, line \u001b[1;32m2\u001b[0m\n\u001b[1;33m    for i = 1 to n :\u001b[0m\n\u001b[1;37m          ^\u001b[0m\n\u001b[1;31mSyntaxError\u001b[0m\u001b[1;31m:\u001b[0m invalid syntax\n"
     ]
    }
   ],
   "source": [
    "def dumbledoreSolve(A) {\n",
    "    for i = 1 to n {\n",
    "        for j = i+1 to n {\n",
    "            s = sum(A[i..j]) // look very closely here\n",
    "            B[i,j] = s\n",
    "}}}"
   ]
  },
  {
   "cell_type": "markdown",
   "metadata": {},
   "source": [
    "(a) For some function g that you should choose, give a bound of the form Ω(g(n))\n",
    "on the running time of this algorithm on an input of size n (i.e., a bound on the\n",
    "number of operations performed by the algorithm)."
   ]
  },
  {
   "cell_type": "markdown",
   "metadata": {},
   "source": [
    "For dumbledoreSolve, there are two main operations:\n",
    "\n",
    "    s = sum(A[i..j]) => j-i operations\n",
    "    B[i,j] = s       => 1 operation\n",
    "    \n",
    "With these operations, we can formulate a sum to represent the function:\n",
    "\n",
    "$\\sum_{i=1}^{n} [\\sum_{j=i+1}^{n} [(j-i)+1]] $ ...reduce inner sum\n",
    "\n",
    "$= \\sum_{i=1}^{n} [\\frac{1}{2}(i-n-3)(i-n)] $ ...reduce final sum\n",
    "\n",
    "$= \\frac{1}{6} * n(n^2 + 3n - 4) = f(n)$\n",
    "\n",
    "Make a guess for the function complexity:\n",
    "\n",
    "$f(n) = O(n^3)$\n",
    "\n",
    "Evaluate using limits:\n",
    "\n",
    "$\\lim_{n \\to \\infty} [\\frac{1}{6} * \\frac{n(n^2 + 3n - 4)}{n^3}]$ ...simplify\n",
    "\n",
    "$= \\lim_{n \\to \\infty} [\\frac{n^3 + 3n^2 - 4n}{6n^3}]$ ...apply L'Hopitals Rule\n",
    "\n",
    "$= \\lim_{n \\to \\infty} [\\frac{3n^2 + 6n - 4}{18n^2}] = \\lim_{n \\to \\infty} [\\frac{6n + 6}{36n}] = \\lim_{n \\to \\infty} [\\frac{6}{36}]$\n",
    "\n",
    "$= \\frac{1}{6} $\n",
    "\n",
    "The limit evaluated to $\\frac{1}{6}$, which is a **constant** and not equal to 0 or infinity.\n",
    "\n",
    "Therefore, the complexity of this algorithm for input size n is $\\theta{(n^3)}$\n",
    "\n",
    "Because the complexity is in terms of theta, it is also equal to lower-bound $\\Omega{(n^3)}$\n",
    "\n",
    "***"
   ]
  },
  {
   "cell_type": "markdown",
   "metadata": {},
   "source": [
    "(b) For this same function g, show that the running time of the algorithm on an input\n",
    "of size n is also O(g(n)). (This shows an asymptotically tight bound of Θ(g(n))\n",
    "on the running time.)"
   ]
  },
  {
   "cell_type": "markdown",
   "metadata": {},
   "source": [
    "The complexity of this algorithm for input size n is $\\theta{(n^3)}$\n",
    "\n",
    "Because the complexity is in terms of theta, it is also equal to upper-bound $O{(n^3)}$\n",
    "\n",
    "***"
   ]
  },
  {
   "cell_type": "markdown",
   "metadata": {},
   "source": [
    "(c) Although Dumbledore’s algorithm is a natural way to solve the problem—after\n",
    "all, it just iterates through the relevant elements of B, filling in a value for each—\n",
    "it contains some highly unnecessary sources of inefficiency. Give an algorithm\n",
    "that solves this problem in time O(g(n)/n) (asymptotically faster) and prove its\n",
    "correctness."
   ]
  },
  {
   "cell_type": "code",
   "execution_count": null,
   "metadata": {
    "collapsed": true
   },
   "outputs": [],
   "source": [
    "def dumbledoreSolve(A) :\n",
    "    n = A.length()\n",
    "\n",
    "    for i in range(1, n):\n",
    "        for j in range(i+1, n):\n",
    "            if (j == i+1):\n",
    "                B[i, j] = A[i] + A[j]\n",
    "            \n",
    "            B[i,j] = B[i,j-1] + A[j]\n",
    "            \n",
    "        #end inner for\n",
    "    #end outer for\n",
    "    \n",
    "#end function"
   ]
  },
  {
   "cell_type": "markdown",
   "metadata": {},
   "source": [
    "My algorithm solves the same problem faster because we access previous calulations instead of solving the same ones multiple times. For example, my algorithm calculates the sum of the element at i and at j, then stores it in the B array immediately. It then retrieves the previous sum from the B array, adds the new j value to the sum, and then adds it to the next spot in the B array. This solution reduces the complexity from $\\theta{(n^3)}$ and $O(n^2)$.\n",
    "\n",
    "***"
   ]
  },
  {
   "cell_type": "markdown",
   "metadata": {},
   "source": [
    "### Problem 4\n",
    "\n",
    "(15 pts extra credit) With a sly wink, Dumbledore says his real goal was actually to\n",
    "calculate and return the largest value in the matrix B, that is, the largest subarray sum\n",
    "in A. Butting in, Professor Hagrid claims to know a fast divide and conquer algorithm\n",
    "for this problem that takes only O(n log n) time (compared to applying a linear search\n",
    "to the B matrix, which would take O($n^2$) time).\n",
    "\n",
    "Hagrid says his algorithm works like this:\n",
    "\n",
    "• Divide the array A into left and right halves\n",
    "\n",
    "• Recursively find the largest subarray sum for the left half\n",
    "\n",
    "• Recursively find the largest subarray sum for the right half\n",
    "\n",
    "• Find largest subarray sum for a subarray that spans between the left and right\n",
    "halves\n",
    "\n",
    "• Return the largest of these three answers\n",
    "\n",
    "On the chalkboard, which appears out of nowhere in a gentle puff of smoke, Hagrid\n",
    "writes the following pseudocode for his algorithm:"
   ]
  },
  {
   "cell_type": "code",
   "execution_count": null,
   "metadata": {
    "collapsed": true
   },
   "outputs": [],
   "source": [
    "hagridSolve(A) {\n",
    "    if(A.length()==0) { return 0 }\n",
    "    return hagHelp(A,1,A.length())\n",
    "}\n",
    "\n",
    "hagHelp(A, s, t) {\n",
    "    if (s > t) { return 0 }\n",
    "    if (s == t) { return A[s] }\n",
    "    \n",
    "    m = (s + t) / 2\n",
    "    \n",
    "    leftMax = sum = 0\n",
    "    for (i = m-1, i >= s, i--) {\n",
    "        sum += A[i]\n",
    "        if (sum > leftMax) { leftMax = sum }\n",
    "    }\n",
    "    \n",
    "    rightMax = sum = 0\n",
    "    for (i = m+1, i <= t, i++) {\n",
    "        sum += A[i]\n",
    "        if (sum > rightMax) { rightMax = sum }\n",
    "    }\n",
    "    \n",
    "    spanMax = leftMax + rightMax\n",
    "    halfMax = max(hagHelp(s, m-1), hagHelp(m+1, t) )\n",
    "    \n",
    "    return max(spanMax, halfMax)\n",
    "}"
   ]
  },
  {
   "cell_type": "markdown",
   "metadata": {},
   "source": [
    "***\n",
    "\n",
    "(i) Identify and fix the errors in Hagrid’s code"
   ]
  },
  {
   "cell_type": "code",
   "execution_count": null,
   "metadata": {
    "collapsed": true
   },
   "outputs": [],
   "source": [
    "hagridSolve(A) {\n",
    "    if(A.length()==0) { return 0 }\n",
    "    return hagHelp(A,0,A.length()-1) ##FIXED BOUNDS\n",
    "}\n",
    "\n",
    "hagHelp(A, s, t) {\n",
    "    if (s > t) { return 0 }\n",
    "    if (s == t) { return A[s] }\n",
    "    \n",
    "    m = (s + t) / 2\n",
    "    \n",
    "    leftMax = sum = 0\n",
    "    for (i = m-1, i >= s, i--) {\n",
    "        sum += A[i]\n",
    "        if (sum > leftMax) { leftMax = sum }\n",
    "    }\n",
    "    \n",
    "    rightMax = sum = 0\n",
    "    for (i = m, i <= t, i++) { ##FIXED i\n",
    "        sum += A[i]\n",
    "        if (sum > rightMax) { rightMax = sum }\n",
    "    }\n",
    "    \n",
    "    spanMax = leftMax + rightMax\n",
    "    halfMax = max(hagHelp(s, m-1), hagHelp(m, t) ) ##FIXED BOUNDS\n",
    "    \n",
    "    return max(spanMax, halfMax)\n",
    "}"
   ]
  },
  {
   "cell_type": "markdown",
   "metadata": {},
   "source": [
    "# Sources\n",
    "***\n",
    "### People\n",
    "Krish Dholakiya\n",
    "\n",
    "Gustav Solis\n"
   ]
  }
 ],
 "metadata": {
  "kernelspec": {
   "display_name": "Python 3",
   "language": "python",
   "name": "python3"
  },
  "language_info": {
   "codemirror_mode": {
    "name": "ipython",
    "version": 3
   },
   "file_extension": ".py",
   "mimetype": "text/x-python",
   "name": "python",
   "nbconvert_exporter": "python",
   "pygments_lexer": "ipython3",
   "version": "3.6.3"
  }
 },
 "nbformat": 4,
 "nbformat_minor": 2
}

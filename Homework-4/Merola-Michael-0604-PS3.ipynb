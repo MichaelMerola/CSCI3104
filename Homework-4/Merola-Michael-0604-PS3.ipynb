{
 "cells": [
  {
   "cell_type": "markdown",
   "metadata": {},
   "source": [
    "CSCI 3104 Spring 2018\n",
    "\n",
    "Problem Set 4\n",
    "\n",
    "Merola, Michael\n",
    "\n",
    "06/04/1998\n",
    "\n",
    "# Problem Set 4\n",
    "***"
   ]
  },
  {
   "cell_type": "markdown",
   "metadata": {},
   "source": [
    "### Problem 1\n",
    "\n",
    "(10 pts) Suppose that we modify the Partition algorithm in QuickSort in such a way\n",
    "that on on every third level of the recursion tree it chooses the worst possible pivot,\n",
    "and on all other levels of the recursion tree Partition chooses the best possible pivot.\n",
    "Write down a recurrence relation for this version of QuickSort and give its asymptotic\n",
    "solution. Then, give a verbal explanation of how this Partition algorithm changes\n",
    "the running time of QuickSort.\n",
    "\n",
    "***"
   ]
  },
  {
   "cell_type": "markdown",
   "metadata": {},
   "source": [
    "QuickSort **Best-Case** Recurrence: $2T(\\frac{N}{2}) + (N-1)$\n",
    "\n",
    "QuickSort **Worst-Case** Recurrence: $T(N-1) + (N-1)$\n",
    "\n",
    "_Unrolling_\n",
    "\n",
    "$T(N) = 2T(\\frac{N}{2}) + (N-1) $\n",
    "\n",
    "$= 2T(\\frac{N}{4}) + (N-1) + (N-2) $\n",
    "\n",
    "$= 2T(\\frac{N}{4}) + (N-1) + (N-2) + (N-3) $\n",
    "\n",
    "$= 2T(\\frac{((N-1))}{4}) + (N-1) + (N-2) + (N-3) $ ...plug in worst-case ((N-1)) at third level\n",
    "\n",
    "$= \\sum_{i=1}^{n} \\frac{n-1}{2^i} = 2^{-n} (2^n - 1)(n-1)$\n",
    "\n",
    "$= \\theta(nlog(n))$\n",
    "\n",
    "The final complexity for this version of quicksort is the same as the best-case for the original algorithm [$\\theta(nlog(n))$]. Due to this, the algorithm eventually nullifies the effect of third-level worst case, and it doen't have any effect on the runtime of the algorithm."
   ]
  },
  {
   "cell_type": "markdown",
   "metadata": {},
   "source": [
    "## Problem 2\n",
    "\n",
    "(10 pts) Mr. Ollivander, of Ollivanders wand shop, has hired you as his assistant,\n",
    "to find the most powerful wand in the store. You are given a magical scale which\n",
    "“weighs” wands by how powerful they are (the scale dips lower for the wand which\n",
    "is more powerful). You are given n wands W1, . . . , Wn, each having distinct levels of\n",
    "power (no two are exactly equal).\n",
    "\n",
    "***"
   ]
  },
  {
   "cell_type": "markdown",
   "metadata": {},
   "source": [
    "(a) Consider the following algorithm to find the most powerful wand:\n",
    "\n",
    "    i. Divide the n wands into n/2 pairs of wands.\n",
    "    ii. Compare each wand with its pair, and retain the more powerful of the two.\n",
    "    iii. Repeat this process until just one wand remains.\n",
    "\n",
    "Illustrate the comparisons that the algorithm will do for the following n = 8 input:"
   ]
  },
  {
   "cell_type": "markdown",
   "metadata": {},
   "source": [
    "$W1:\\frac{2}{3} , W2:\\frac{5}{2} , W3:\\frac{1}{2} , W4:1 , W5:2 , W6:\\frac{5}{4} , W7:\\frac{1}{4} , W8:\\frac{9}{4}$\n",
    "\n",
    "=> $W1:\\frac{2}{3} ?? W2:\\frac{5}{2} ||| W3:\\frac{1}{2} ?? W4:1 ||| W5:2 ?? W6:\\frac{5}{4} ||| W7:\\frac{1}{4} ?? W8:\\frac{9}{4}$\n",
    "\n",
    "=> $W2:\\frac{5}{2} ?? W4:1 ||| W5:2 ?? W8:\\frac{9}{4}$\n",
    "\n",
    "=> $W2:\\frac{5}{2} ?? W8:\\frac{9}{4}$\n",
    "\n",
    "=> $W2:\\frac{5}{2} $ is the most powerful wand\n",
    "\n",
    "***"
   ]
  },
  {
   "cell_type": "markdown",
   "metadata": {},
   "source": [
    "(b) Show that for n wands, the algorithm (2a) uses at most n comparisons."
   ]
  },
  {
   "cell_type": "markdown",
   "metadata": {},
   "source": [
    "$T(n) = T(\\frac{n}{2}) + (\\frac{n}{2}) $\n",
    "\n",
    "*divide array in half each time, perform n/2 operations\n",
    "\n",
    "$= T(\\frac{n}{4}) + \\frac{n}{4} + \\frac{n}{2} $\n",
    "\n",
    "$= T(\\frac{n}{6}) + \\frac{n}{4} + \\frac{n}{2} + \\frac{n}{2} $\n",
    "\n",
    "$= ...$\n",
    "\n",
    "$\\sum_{i=1}^{logn} \\frac{n}{2^i} = n-1 = O(n)$\n",
    "\n",
    "***"
   ]
  },
  {
   "cell_type": "markdown",
   "metadata": {},
   "source": [
    "(c) Describe an algorithm that uses the results of (2a) to find the second most powerful\n",
    "wand, using at most log(n) additional comparisons. There is no need for\n",
    "pseudocode; just write out the steps of the algorithm like we have written in (2a).\n",
    "Hint: if you follow sports, especially wrestling, read about the repechage."
   ]
  },
  {
   "cell_type": "markdown",
   "metadata": {},
   "source": [
    "    i.   Divide the n wands into n/2 pairs of wands.\n",
    "    ii.  Compare each wand with its pair, and retain the more powerful of the two.\n",
    "         Track the winners/losers of each pair\n",
    "    iii. Repeat this process until just one wand remains.\n",
    "    iv.  Return an array of [wands that lost to the ultimate winner] to the function\n",
    "    v.   Function returns the 2nd-most powerful wand out of original array.\n",
    "    \n",
    "***"
   ]
  },
  {
   "cell_type": "markdown",
   "metadata": {},
   "source": [
    "(d) Show the additional comparisons that your algorithm in (2c) will perform for the\n",
    "input given in (2a)."
   ]
  },
  {
   "cell_type": "markdown",
   "metadata": {},
   "source": [
    "...\n",
    "\n",
    "=> $W2:\\frac{5}{2} $ is the most powerful wand\n",
    "\n",
    "=> $W8, W4, and W1$ lost to $W2$ during the initial run-thru\n",
    "\n",
    "=> $f([W8, W4, W1])$\n",
    "\n",
    "=> $W8:\\frac{9}{4} ?? W4:1 ||| W1:\\frac{2}{3}$\n",
    "\n",
    "=> $W8:\\frac{9}{4} ?? W1:\\frac{2}{3}$\n",
    "\n",
    "=> $W8:\\frac{9}{4}$ is the 2nd most powerful wand"
   ]
  },
  {
   "cell_type": "markdown",
   "metadata": {},
   "source": [
    "## Problem 3\n",
    "\n",
    "(20 pts) For obtuse historical reasons, Prof. Dumbledore asks his students to line up\n",
    "in ascending order by height in a very tight room with little extra space. Similar to\n",
    "Alex the African Grey parrot (look it up!), the students, being bored, decided to play\n",
    "a little trick on Prof. Dumbledore. They lined up in order by height—almost. They\n",
    "made sure that each person was no more than k positions away from where they were\n",
    "supposed to be (in ascending order), but this allowed them to significantly mess up\n",
    "the precise ordering. Here is an example of an array with this property when k = 2:\n",
    "\n",
    "***"
   ]
  },
  {
   "cell_type": "markdown",
   "metadata": {},
   "source": [
    "(a) Write down pseudocode for an algorithm that would sort such an array in place—\n",
    "so it fits in the tight room—in time O(n k log k). Your algorithm can use a function\n",
    "sort(A,l,r) that sorts the subarray A[l], . . . , A[r] in place in O((r −l) log(r −l))\n",
    "steps (assuming r > l)."
   ]
  },
  {
   "cell_type": "code",
   "execution_count": 7,
   "metadata": {
    "collapsed": true
   },
   "outputs": [],
   "source": [
    "def sortMessy(A,k):\n",
    "    for i in range(0, len(a)):\n",
    "        sort(A,i,i+k)\n",
    "    "
   ]
  },
  {
   "cell_type": "markdown",
   "metadata": {},
   "source": [
    "(b) Suppose you are given to an auxiliary room which can fit k + 1 students. Modify\n",
    "your previous algorithm to sort the given array in time O(nk)."
   ]
  },
  {
   "cell_type": "code",
   "execution_count": 8,
   "metadata": {},
   "outputs": [
    {
     "name": "stdout",
     "output_type": "stream",
     "text": [
      "I don't know\n"
     ]
    }
   ],
   "source": [
    "print(\"I don't know\")"
   ]
  },
  {
   "cell_type": "markdown",
   "metadata": {},
   "source": [
    "(c) With the same extra room as in the previous part, modify heap sort using a binary\n",
    "min heap of size k + 1 to sort the given array in time O(n log k)."
   ]
  },
  {
   "cell_type": "code",
   "execution_count": 9,
   "metadata": {},
   "outputs": [
    {
     "name": "stdout",
     "output_type": "stream",
     "text": [
      "I don't know\n"
     ]
    }
   ],
   "source": [
    "print(\"I don't know\")"
   ]
  },
  {
   "cell_type": "markdown",
   "metadata": {},
   "source": [
    "(d) (5 pts extra credit) Include the correct story about Alex, with proper citation. If\n",
    "you wish, you may copy this story verbatim, but must indicate clearly that you\n",
    "have done so and, of course, still cite your source.\n"
   ]
  },
  {
   "cell_type": "markdown",
   "metadata": {},
   "source": [
    "**[Cited from ModernNotion.com, 'Alex, the Only Parrot to Ask an Existential Question']**\n",
    "\n",
    "**[Copied Verbatim. URL to full story in 'Sources' section.]**\n",
    "\n",
    "Alex, an African Gray parrot, is so far the only non-human animal to ever ask an existential question about himself, which means he was self-aware enough to understand his own existence.\n",
    "\n",
    "Alex was owned and used by researcher Irene Pepperberg, an animal psychologist, to better understand how parrots can learn from and mimic humans. However, as time went on, Pepperberg realized that Alex wasn’t just reciting her actions and words, he was learning and thinking for himself. For example, when Pepperberg would ask what color corn is, even though there was no corn visible, Alex would answer yellow.\n",
    "\n",
    "Since free thought is often cited as the biggest difference between animals and humans, researchers have pursued an understanding of animal intelligence since at least the 1600s. According to The New York Times:\n",
    "\n",
    "The question of animal intelligence goes back at least to Descartes and his famous aphorism, ”I think, therefore I am.” Animals cannot think, said Descartes, and therefore are inferior to humans. And for many theologians and philosophers, the ability to think gives man a unique closeness to God.\n",
    " \n",
    "Unlike other animals such as dolphins and chimpanzees who can answer questions, Alex is so far the only one to ever ask one about himself. One day, while learning colors, Alex looked into the mirror and asked, “What color?” A research assistant then told Alex that he was a gray parrot. After repeating the question six times, Alex learned the color gray. Even though it seems like he was just trying to figure out what gray was, the question, if thought about in terms of Descartes’ quote, shows that Alex was also thinking about himself and his own existence as a living thing.\n",
    "\n",
    "Besides being the first animal to fully show that he knew of his own existence, Alex also expressed opinions and asked many other questions such as what a carrot was and where Pepperberg was going.\n",
    "\n",
    "Alex sadly died in 2007 at the age of 31. His last words were to Pepperberg the night before when he said, “You be good, see you tomorrow. I love you.” Pepperberg has since started training other parrots, none of which are as smart as Alex was.\n",
    "\n",
    "***"
   ]
  },
  {
   "cell_type": "markdown",
   "metadata": {},
   "source": [
    "### Problem 4\n",
    "\n",
    "(20 pts) Consider the following strategy for choosing a pivot element for the Partition\n",
    "subroutine of QuickSort, applied to an array A.\n",
    "\n",
    "    • Let n be the number of elements of the array A.\n",
    "    • If n ≤ 24, perform an Insertion Sort of A and return.\n",
    "    • Otherwise:\n",
    "\n",
    "        – Choose 2bn\n",
    "        (1/3)c elements at random from n; let S be the new list with the\n",
    "        chosen elements.\n",
    "        – Sort the list S using Insertion Sort and use the median m of S as a pivot\n",
    "        element.\n",
    "        – Partition using m as a pivot.\n",
    "        – Carry out QuickSort recursively on the two parts.\n"
   ]
  },
  {
   "cell_type": "markdown",
   "metadata": {},
   "source": [
    "(a) How much time does it take to sort S and find its median? Give a Θ bound."
   ]
  },
  {
   "cell_type": "markdown",
   "metadata": {},
   "source": [
    "insertion sort running-time: $O(n^2) $\n",
    "\n",
    "$ O((2n^{\\frac{1}{3}})^2) = O(4n^{\\frac{2}{3}})$\n",
    "\n",
    "$= \\theta(n^{\\frac{2}{3}})$\n",
    "\n",
    "***"
   ]
  },
  {
   "cell_type": "markdown",
   "metadata": {},
   "source": [
    "(b) If the element m obtained as the median of S is used as the pivot, what can we\n",
    "say about the sizes of the two partitions of the array A?\n"
   ]
  },
  {
   "cell_type": "markdown",
   "metadata": {},
   "source": [
    "The median pivot obtained from subarray S will never be an extreme min or max value from A because it chooses the median from a subarray of random numbers. Due to this, the partitions of the array will never be empty because at least one element will exist in each partition at all times.\n",
    "\n",
    "***"
   ]
  },
  {
   "cell_type": "markdown",
   "metadata": {},
   "source": [
    "(c) Write a recurrence relation for the worst case running time of QuickSort with this\n",
    "pivoting strategy."
   ]
  },
  {
   "cell_type": "markdown",
   "metadata": {},
   "source": [
    "_account for original runtime and insertion sort runtime:_\n",
    "\n",
    "$\\theta{(n^{\\frac{2}{3})}} + \\theta{(n)}$\n",
    "\n",
    "_account for recursive calls_\n",
    "\n",
    "$T(n-2n^{\\frac{1}{3}}) + T(2n^{\\frac{1}{3}})$\n",
    "\n",
    "so...\n",
    "\n",
    "$T(n-2n^{\\frac{1}{3}}) + T(2n^{\\frac{1}{3}}) + \\theta{(n^{\\frac{2}{3})}} + \\theta{(n)} $\n",
    "\n",
    "***"
   ]
  },
  {
   "cell_type": "markdown",
   "metadata": {},
   "source": [
    "### Problem 5 (Extra-Credit)\n",
    "\n",
    " (20 pts extra credit) Recall that the Insertion Sort algorithm (Chapter 2.1 of CLRS) is\n",
    "an in-place sorting algorithm that takes Θ(n\n",
    "2\n",
    ") time and Θ(n) space. In this problem,\n",
    "you will learn how to instrument your code and how to perform a numerical experiment\n",
    "that verifies the asymptotic analysis of Insertion Sort’s running time. There are two\n",
    "functions and one experiment to do this.\n",
    "\n",
    "(i) InsertionSort(A,n) takes as input an unordered array A, of length n, and returns\n",
    "both an in-place sorted version of A and a count t of the number of atomic operations\n",
    "performed by InsertionSort.\n",
    "Recall: atomic operations include mathematical operations like −, +, ∗, and /, assignment\n",
    "operations like ← and =, comparison operations like <, >, and ==, and RAM\n",
    "indexing or referencing operations like [ ].\n",
    "\n",
    "(ii) randomArray(n) takes as input an integer n and returns an array A such that for\n",
    "each 0 ≤ i < n, A[i] is a uniformly random integer between 1 and n. (It is okay if A is\n",
    "a random permutation of the first n positive integers; see the end of Chapter 5.3.)\n"
   ]
  },
  {
   "cell_type": "markdown",
   "metadata": {},
   "source": [
    "(a) From scratch, implement the functions InsertionSort and randomArray. You\n",
    "may not use any library functions that make their implementation trivial. You\n",
    "may use a library function that implements a pseudorandom number generator\n",
    "in order to implement randomArray.\n",
    "\n",
    "Submit a paragraph that explains how you instrumented InsertionSort, i.e.,\n",
    "explain which operations you counted and why these are the correct ones to\n",
    "count.\n",
    "\n",
    "Hint: your instrument code should only count the operations of the InsertionSort\n",
    "algorithm and not the operations of the instrument code you added to it."
   ]
  },
  {
   "cell_type": "code",
   "execution_count": 10,
   "metadata": {
    "collapsed": true
   },
   "outputs": [],
   "source": [
    "import random\n",
    "\n",
    "#insertion sort algorithm based on textbook\n",
    "\n",
    "def insertionSort(A,n):\n",
    "    oCount = 0\n",
    "    for i in range(2, len(A)):\n",
    "        key = A[i]\n",
    "        oCount = oCount+1\n",
    "        j = i-1\n",
    "        oCount = oCount+1\n",
    "        while (j > 0 and A[j] > key):\n",
    "            A[j+1] = A[j]\n",
    "            oCount = oCount+1\n",
    "            j = j-1\n",
    "            oCount = oCount+1\n",
    "            \n",
    "        A[j+1] = key\n",
    "        oCount = oCount+1\n",
    "        \n",
    "def randomArray(n):\n",
    "    A = []\n",
    "    for i in range(0, n):\n",
    "        r = random.randint(0, n)\n",
    "        A.append(r)\n",
    "\n",
    "    return A"
   ]
  },
  {
   "cell_type": "markdown",
   "metadata": {},
   "source": []
  },
  {
   "cell_type": "markdown",
   "metadata": {},
   "source": [
    "# Sources\n",
    "***\n",
    "### People\n",
    "Krish Dholakiya\n",
    "\n",
    "Gustav Solis\n",
    "\n",
    "***\n",
    "\n",
    "### Websites\n",
    "http://modernnotion.com/alex-the-only-parrot-to-ask-an-existential-question/"
   ]
  },
  {
   "cell_type": "code",
   "execution_count": null,
   "metadata": {
    "collapsed": true
   },
   "outputs": [],
   "source": []
  }
 ],
 "metadata": {
  "kernelspec": {
   "display_name": "Python 3",
   "language": "python",
   "name": "python3"
  },
  "language_info": {
   "codemirror_mode": {
    "name": "ipython",
    "version": 3
   },
   "file_extension": ".py",
   "mimetype": "text/x-python",
   "name": "python",
   "nbconvert_exporter": "python",
   "pygments_lexer": "ipython3",
   "version": "3.6.3"
  }
 },
 "nbformat": 4,
 "nbformat_minor": 2
}

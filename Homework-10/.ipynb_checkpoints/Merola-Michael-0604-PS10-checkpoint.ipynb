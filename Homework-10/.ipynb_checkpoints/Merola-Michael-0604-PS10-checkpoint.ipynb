{
 "cells": [
  {
   "cell_type": "markdown",
   "metadata": {},
   "source": [
    "CSCI 3104 Spring 2018\n",
    "\n",
    "Problem Set 10\n",
    "\n",
    "Merola, Michael\n",
    "\n",
    "06/04/1998\n",
    "\n",
    "# Problem Set 10\n",
    "***"
   ]
  },
  {
   "cell_type": "code",
   "execution_count": null,
   "metadata": {
    "collapsed": true
   },
   "outputs": [],
   "source": []
  },
  {
   "cell_type": "markdown",
   "metadata": {},
   "source": [
    "### Problem 1\n",
    "\n",
    "(15 pts total) A matching in a graph $G$ is a subset $E_M \\subseteq E(G)$ of edges such that each vertex touches at most one of the edges in $E_M$. Recall that a bipartite graph is a graph $G$ on two sets of vertices, $V_1$ and $V_2$, such that every edge has one endpoint in $V_1$ and one endpoint in $V_2$. We sometimes write $G = (V_1, V_2; E)$ for this situation. For example:\n",
    "<img src=\"https://github.com/MichaelMerola/CSCI3104/blob/master/Homework-10/problem1_pics/example.PNG?raw=true\" style=\"width:40%;height:40%;\" >\n",
    "\n",
    "The edges in the example consist of all the lines, whether solid or dotted; the solid lines form a matching.\n",
    "\n",
    "The bipartite maximum matching problem is to find a matching in a given bipartite graph $G$, which has the maximum number of edges among all matchings in $G$.\n",
    "\n",
    "***"
   ]
  },
  {
   "cell_type": "markdown",
   "metadata": {},
   "source": [
    "(a) Prove that a maximum matching in a bipartite graph $G = (V_1, V_2; E)$ has size at most $\\min\\{|V_1|,|V_2|\\}$."
   ]
  },
  {
   "cell_type": "markdown",
   "metadata": {
    "collapsed": true
   },
   "source": [
    "The maximum matching problem allocates each vertex into a pair of vertices $(V_a, V_b)$ connected by an edge from $E_m$. Once a vertex has been paired, it **cannot** be connected to any other vertex by an edge from $E_m$. For two sets of vertices [$V_1, V_2$], there can't be any other edges added to $E_m$ once the smaller set of vertices have been completely matched because a vertex from the smaller set would then have more than one edge. Therefore, there can only be at most $\\min\\{|V_1|,|V_2|\\}$ edges in $E_m$.\n",
    "\n",
    "***"
   ]
  },
  {
   "cell_type": "markdown",
   "metadata": {},
   "source": [
    "(b) Show how you can use an algorithm for max-flow to solve bipartite maximum\n",
    "matching on undirected simple bipartite graphs. That is, give an algorithm which, given an undirected simple bipartite graph $G = (V_1, V_2; E)$ :\n",
    "\n",
    "**1)** constructs a directed and weighted graph $G'$ (which need not be bipartite) with weights $w : E(G') \\rightarrow \\mathbb{R}$ as well as two vertices $s, t \\in V(G');$ \n",
    "\n",
    "**2)** solves max-flow for $(G',w), s, t$ \n",
    "\n",
    "**3)** uses the solution for max-flow to find the maximum matching in $G$. \n",
    "\n",
    "Your algorithm may use any max-flow algorithm as a subroutine.\n",
    "\n",
    "***"
   ]
  },
  {
   "cell_type": "markdown",
   "metadata": {},
   "source": [
    "**given graph** $G$\n",
    "<img src=\"https://github.com/MichaelMerola/CSCI3104/blob/master/Homework-10/problem1_pics/given.jpg?raw=true\" style=\"width:25%;height:25%;\" >\n",
    "\n",
    "*My algorithm for solving bipartite max matching using max-flow would utilize ford-fulkerson as a subroutine.*\n",
    "\n",
    "1) The algo first creates $s,t$ edges where $s$ has edges that connect to $V_1$ and $t$ has edges to $V_2$. Next it assigns weights to each edge. In this example, the weights will be randomly generated numbers between 1 and 10 (in real applications, the weights could represent flow of water in lbs or even the percentage match of a person to a job). The algo would also assign directions to the graph. In this case, the direction of the edges will all be towards $t$.\n",
    "<img src=\"https://github.com/MichaelMerola/CSCI3104/blob/master/Homework-10/problem1_pics/1_gprime.jpg?raw=true\" style=\"width:30%;height:30%;\" >\n",
    "\n",
    "\n",
    "2) The algorithm would then solve for max-flow using ford-fulkerson. The greedy algorithm would choose a s-t path that has the greatest weight; however, the algo would also check both that each vertex in $(V_1,V_2)$ have at max one edge connecting them and that the number of paths between $(V_1,V_2)$ does not exceed $\\min\\{|V_1|,|V_2|\\}$.\n",
    "<img src=\"https://github.com/MichaelMerola/CSCI3104/blob/master/Homework-10/problem1_pics/2_maxflow.jpg?raw=true\" style=\"width:30%;height:30%;\" >\n",
    "\n",
    "3) Using the solution from the max-flow, my algorithm adds the edges from the solution paths to $E_m$ which represents the edges that solve bipartite max matching in $G$.\n",
    "<img src=\"https://github.com/MichaelMerola/CSCI3104/blob/master/Homework-10/problem1_pics/3_maxmatch.jpg?raw=true\" style=\"width:25%;height:25%;\" >\n",
    "\n",
    "***"
   ]
  },
  {
   "cell_type": "markdown",
   "metadata": {},
   "source": [
    "(c) Show the weighted graph constructed by your algorithm on the example bipartite graph above."
   ]
  },
  {
   "cell_type": "markdown",
   "metadata": {},
   "source": [
    "ORIGINAL\n",
    "<img src=\"https://github.com/MichaelMerola/CSCI3104/blob/master/Homework-10/problem1_pics/example.PNG?raw=true\" style=\"width:40%;height:40%;\" >\n",
    "\n"
   ]
  },
  {
   "cell_type": "markdown",
   "metadata": {},
   "source": [
    "### Problem 2\n",
    "\n"
   ]
  },
  {
   "cell_type": "code",
   "execution_count": null,
   "metadata": {
    "collapsed": true
   },
   "outputs": [],
   "source": []
  }
 ],
 "metadata": {
  "kernelspec": {
   "display_name": "Python 3",
   "language": "python",
   "name": "python3"
  },
  "language_info": {
   "codemirror_mode": {
    "name": "ipython",
    "version": 3
   },
   "file_extension": ".py",
   "mimetype": "text/x-python",
   "name": "python",
   "nbconvert_exporter": "python",
   "pygments_lexer": "ipython3",
   "version": "3.6.3"
  }
 },
 "nbformat": 4,
 "nbformat_minor": 2
}

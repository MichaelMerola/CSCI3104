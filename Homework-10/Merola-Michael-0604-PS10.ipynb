{
 "cells": [
  {
   "cell_type": "markdown",
   "metadata": {},
   "source": [
    "CSCI 3104 Spring 2018\n",
    "\n",
    "Problem Set 10\n",
    "\n",
    "Merola, Michael\n",
    "\n",
    "06/04/1998\n",
    "\n",
    "# Problem Set 10\n",
    "***"
   ]
  },
  {
   "cell_type": "code",
   "execution_count": 5,
   "metadata": {
    "collapsed": true
   },
   "outputs": [],
   "source": [
    "import pandas as pd\n",
    "import numpy as np\n",
    "import math\n",
    "\n",
    "import matplotlib.pylab as plt\n",
    "%matplotlib inline"
   ]
  },
  {
   "cell_type": "markdown",
   "metadata": {},
   "source": [
    "### Problem 1\n",
    "\n",
    "(15 pts total) A matching in a graph $G$ is a subset $E_M \\subseteq E(G)$ of edges such that each vertex touches at most one of the edges in $E_M$. Recall that a bipartite graph is a graph $G$ on two sets of vertices, $V_1$ and $V_2$, such that every edge has one endpoint in $V_1$ and one endpoint in $V_2$. We sometimes write $G = (V_1, V_2; E)$ for this situation. For example:\n",
    "<img src=\"https://github.com/MichaelMerola/CSCI3104/blob/master/Homework-10/problem1_pics/example.PNG?raw=true\" style=\"width:40%;height:40%;\" >\n",
    "\n",
    "The edges in the example consist of all the lines, whether solid or dotted; the solid lines form a matching.\n",
    "\n",
    "The bipartite maximum matching problem is to find a matching in a given bipartite graph $G$, which has the maximum number of edges among all matchings in $G$.\n",
    "\n",
    "***"
   ]
  },
  {
   "cell_type": "markdown",
   "metadata": {},
   "source": [
    "(a) Prove that a maximum matching in a bipartite graph $G = (V_1, V_2; E)$ has size at most $\\min\\{|V_1|,|V_2|\\}$."
   ]
  },
  {
   "cell_type": "markdown",
   "metadata": {
    "collapsed": true
   },
   "source": [
    "The maximum matching problem allocates each vertex into a pair of vertices $(V_a, V_b)$ connected by an edge from $E_m$. Once a vertex has been paired, it **cannot** be connected to any other vertex by an edge from $E_m$. For two sets of vertices [$V_1, V_2$], there can't be any other edges added to $E_m$ once the smaller set of vertices have been completely matched because a vertex from the smaller set would then have more than one edge. Therefore, there can only be at most $\\min\\{|V_1|,|V_2|\\}$ edges in $E_m$.\n",
    "\n",
    "***"
   ]
  },
  {
   "cell_type": "markdown",
   "metadata": {},
   "source": [
    "(b) Show how you can use an algorithm for max-flow to solve bipartite maximum\n",
    "matching on undirected simple bipartite graphs. That is, give an algorithm which, given an undirected simple bipartite graph $G = (V_1, V_2; E)$ :\n",
    "\n",
    "**1)** constructs a directed and weighted graph $G'$ (which need not be bipartite) with weights $w : E(G') \\rightarrow \\mathbb{R}$ as well as two vertices $s, t \\in V(G');$ \n",
    "\n",
    "**2)** solves max-flow for $(G',w), s, t$ \n",
    "\n",
    "**3)** uses the solution for max-flow to find the maximum matching in $G$. \n",
    "\n",
    "Your algorithm may use any max-flow algorithm as a subroutine.\n",
    "\n",
    "***"
   ]
  },
  {
   "cell_type": "markdown",
   "metadata": {},
   "source": [
    "**given graph** $G$\n",
    "<img src=\"https://github.com/MichaelMerola/CSCI3104/blob/master/Homework-10/problem1_pics/given.jpg?raw=true\" style=\"width:25%;height:25%;\" >\n",
    "\n",
    "*My algorithm for solving bipartite max matching using max-flow would utilize ford-fulkerson as a subroutine.*\n",
    "\n",
    "1) The algo first creates $s,t$ edges where $s$ has edges that connect to $V_1$ and $t$ has edges to $V_2$. Next it assigns weights to each edge. In this example, the weights will be randomly generated numbers between 1 and 10 (in real applications, the weights could represent flow of water in lbs or even the percentage match of a person to a job). The algo would also assign directions to the graph. In this case, the direction of the edges will all be towards $t$.\n",
    "<img src=\"https://github.com/MichaelMerola/CSCI3104/blob/master/Homework-10/problem1_pics/1_gprime.jpg?raw=true\" style=\"width:30%;height:30%;\" >\n",
    "\n",
    "\n",
    "2) The algorithm would then solve for max-flow using ford-fulkerson. The greedy algorithm would choose a s-t path that has the greatest weight; however, the algo would also check both that each vertex in $(V_1,V_2)$ have at max one edge connecting them and that the number of paths between $(V_1,V_2)$ does not exceed $\\min\\{|V_1|,|V_2|\\}$.\n",
    "<img src=\"https://github.com/MichaelMerola/CSCI3104/blob/master/Homework-10/problem1_pics/2_maxflow.jpg?raw=true\" style=\"width:30%;height:30%;\" >\n",
    "\n",
    "3) Using the solution from the max-flow, my algorithm adds the edges from the solution paths to $E_m$ which represents the edges that solve bipartite max matching in $G$.\n",
    "<img src=\"https://github.com/MichaelMerola/CSCI3104/blob/master/Homework-10/problem1_pics/3_maxmatch.jpg?raw=true\" style=\"width:25%;height:25%;\" >\n",
    "\n",
    "***"
   ]
  },
  {
   "cell_type": "markdown",
   "metadata": {},
   "source": [
    "(c) Show the weighted graph constructed by your algorithm on the example bipartite graph above."
   ]
  },
  {
   "cell_type": "markdown",
   "metadata": {},
   "source": [
    "ORIGINAL\n",
    "<img src=\"https://github.com/MichaelMerola/CSCI3104/blob/master/Homework-10/problem1_pics/example.PNG?raw=true\" style=\"width:40%;height:40%;\" >\n",
    "\n",
    "Using Algorithm\n",
    "<img src=\"https://github.com/MichaelMerola/CSCI3104/blob/master/Homework-10/problem1_pics/examplegraph.jpg?raw=true\" style=\"width:35%;height:35%;\" >"
   ]
  },
  {
   "cell_type": "markdown",
   "metadata": {},
   "source": []
  },
  {
   "cell_type": "markdown",
   "metadata": {},
   "source": [
    "### Problem 2\n",
    "\n",
    "(20 pts total) In the review session for his Deep Wizarding class, Dumbledore reminds everyone that the logical definition of NP requires that the number of bits in the witness $w$ is polynomial in the number of bits of the input $n$. That is, $|w| = poly(n)$. With a smile, he says that in beginner wizarding, witnesses are usually only logarithmic in size, i.e., $|w| = O(\\log n)$."
   ]
  },
  {
   "cell_type": "markdown",
   "metadata": {},
   "source": [
    "(a) Because you are a model student, Dumbledore asks you to prove, in front of the whole class, that any such property is in the complexity class P."
   ]
  },
  {
   "cell_type": "markdown",
   "metadata": {},
   "source": [
    "In general, $P \\subseteq NP$ which means that any $w$ that can be solved in NP can be solved in P. For any $w$ with input $n$ in the logical definition of NP, $|w| = poly(n)$. A basic example that shows $|w| = O(\\log n)$ is solving for a numbers greatest common divisor; where $n=2$ for the two integer inputs and $w$ is their gcd. Solving for the gcd would be $O(logn)$ based on the number of inputs which is in Polynomial time. Any such property that is a subset of NP is in the complexity class P.\n",
    "\n",
    "***"
   ]
  },
  {
   "cell_type": "markdown",
   "metadata": {},
   "source": [
    "(b) Well done, Dumbledore says. Now, explain why the logical definition of NP implies that any problem in NP can be solved by an exponential time algorithm."
   ]
  },
  {
   "cell_type": "markdown",
   "metadata": {},
   "source": [
    "Exponential time means that every possible type of witness is used to solve the problem. In other words, **any** problem can be solved in exponential time. Because $P \\subseteq NP \\subseteq Exp$, any problems that can be solved in NP can be solved in exponential time.\n",
    "\n",
    "***"
   ]
  },
  {
   "cell_type": "markdown",
   "metadata": {},
   "source": [
    "(c) Dumbledore then asks the class: \"So, is NP a good formalization of the notion of problems that can be solved by brute force? Discuss.'' Give arguments for both possible answers."
   ]
  },
  {
   "cell_type": "markdown",
   "metadata": {},
   "source": [
    "No  - A better formalization of this notion is that Exponential Time encompasses problems that can be solved by pure brute force.  \n",
    "\n",
    "Yes - The range of questions that can be solved by NP can also be solved by EXP (by the same logic in part b), therfore they can be nearly solved in the same brute force method.\n",
    "\n",
    "***"
   ]
  },
  {
   "cell_type": "markdown",
   "metadata": {},
   "source": [
    "### Problem 3\n",
    "\n",
    "(30 pts total) The Order of the Phoenix is trying to arrange to watch all the corridors in Hogwarts, to look out for any Death Eaters. Professor McGonagall has developed a new spell, Multi-Directional Sight, which allows a person to get a 360-degree view of where they are currently standing. Thus, if they are able to place a member of the Order at every intersection of hallways, they'll be able to monitor all hallways. In order not to spare any personnel, they want to place as few people as possible at intersections, while still being able to monitor every hallway. (And they really need to monitor every hallway, since Death Eaters could use Apparition to teleport into an arbitrary hallway in the middle of the school.) Call a subset $S$ of intersections is **safe**, if, by placing a member of the Order at each intersection in $S$, every hallway is watched."
   ]
  },
  {
   "cell_type": "markdown",
   "metadata": {},
   "source": [
    "(a) Formulate the above as an optimization problem on a graph. Argue that your formulation is an accurate reflection of the problem. In your formulation, show that the following problem is in NP: Given a graph $G$ and an integer $k$, decide whether there a safe subset of size $\\leq k$."
   ]
  },
  {
   "cell_type": "code",
   "execution_count": null,
   "metadata": {
    "collapsed": true
   },
   "outputs": [],
   "source": []
  },
  {
   "cell_type": "markdown",
   "metadata": {},
   "source": []
  },
  {
   "cell_type": "markdown",
   "metadata": {},
   "source": [
    "### Problem 5\n",
    "\n",
    "(20 pts extra credit) Recall that the MergeSort algorithm (Chapter 2.3 of CLRS) is a sorting algorithm that takes $\\Theta(n \\log n)$ time and $\\Theta(n)$ space. In this problem, you will implement and instrument **MergeSort**, then perform a numerical experiment that verifies this asymptotic analysis. There are two functions and one experiment to do this.\n",
    "\n",
    "**MergeSort(A, n)** takes as input an unordered array $A$, of length $n$, and returns both an in-place sorted version of $A$ and a count $t$ of the number of atomic operations performed by **MergeSort**.\n",
    "\n",
    "\n",
    "**randomArray(n)** takes as input an integer $n$ and returns an array $A$ such that for each $0 \\leq i < n$, $A[i]$ is a uniformly random integer between 1 and $n$. (It is okay if $A$ is a random permutation of the first $n$ positive integers; see the end of Chapter 5.3.)\n"
   ]
  },
  {
   "cell_type": "markdown",
   "metadata": {},
   "source": [
    "(a) From scratch, implement the functions **MergeSort** and **randomArray**. You may not use any library functions that make their implementation trivial. You may use a library function that implements a pseudorandom number generator in order to implement **randomArray**.\n",
    "\n",
    "Submit a paragraph that explains how you instrumented **MergeSort**, i.e., explain which operations you counted and why these are the correct ones to count."
   ]
  },
  {
   "cell_type": "code",
   "execution_count": null,
   "metadata": {
    "collapsed": true
   },
   "outputs": [],
   "source": [
    "count = 0 #atomic operations\n",
    "\n",
    "def randomArray(n):\n",
    "    A = numpy.random.uniform(1, n, size=n)\n",
    "    return A\n",
    "\n",
    "def merge(A, left, mid, right):\n",
    "    p = []\n",
    "    \n",
    "    L = MergeSort(A[:mid])\n",
    "    R = MergeSort(A[mid:])\n",
    "    \n",
    "    lengthL = len(L)\n",
    "    lengthR = len(R)\n",
    "    \n",
    "    count += 4\n",
    "    \n",
    "    while lengthL != 0 and lengthR != 0:\n",
    "        \n",
    "        if L[0] < R[0]:\n",
    "            p.append(L[0])\n",
    "            L.remove(L[0])\n",
    "            count += 2\n",
    "            \n",
    "        else:\n",
    "            p.append(R[0])\n",
    "            R.remove(R[0])\n",
    "            count += 2\n",
    "    #end while\n",
    "            \n",
    "    if lengthL == 0:\n",
    "        p += R\n",
    "        count += 1\n",
    "    else:\n",
    "        p += L\n",
    "        count +=1\n",
    "        \n",
    "    return p\n",
    "#end merge\n",
    "\n",
    "def MergeSort(A, n):\n",
    "    left = 0\n",
    "    right = n-1\n",
    "    \n",
    "    if (l < r):\n",
    "        mid = floor(n/2)\n",
    "        \n",
    "        mergeSort(A, left, mid)\n",
    "        mergeSort(A, mid, right)\n",
    "        A = merge(A, left, mid, right)\n",
    "        \n",
    "    return (A, count)\n"
   ]
  },
  {
   "cell_type": "markdown",
   "metadata": {},
   "source": [
    "I implemented merge sort by constructing an array out of the left and right parts of the original array. This algorithm operates recursively. I counted the atomic operations by adding up the number of append, remove, and equals operations in the merge function.\n",
    "\n",
    "***"
   ]
  },
  {
   "cell_type": "markdown",
   "metadata": {},
   "source": [
    "(b) For each of $n = \\{2^4,2^5,...,2^{26},2^{27}\\}$, run **MergeSort(randomArray(n),n)** and record the tuple $(n, \\left<t\\right>)$, where $\\left<t\\right>$ is the average number of operations your function counted over the five repetitions. Use whatever software you like to make a line plot of these 24 data points; overlay on your data a function of the form $T(n) = An\\lg n$, where you choose the constant $A$ so that the function is close to your data.\n",
    "\n",
    "Hint: To increase the aesthetics, use a log-log plot."
   ]
  },
  {
   "cell_type": "code",
   "execution_count": null,
   "metadata": {
    "collapsed": true
   },
   "outputs": [],
   "source": []
  },
  {
   "cell_type": "markdown",
   "metadata": {},
   "source": [
    "## Collaborators\n",
    "\n",
    "George Allison"
   ]
  },
  {
   "cell_type": "code",
   "execution_count": null,
   "metadata": {
    "collapsed": true
   },
   "outputs": [],
   "source": []
  }
 ],
 "metadata": {
  "kernelspec": {
   "display_name": "Python 3",
   "language": "python",
   "name": "python3"
  },
  "language_info": {
   "codemirror_mode": {
    "name": "ipython",
    "version": 3
   },
   "file_extension": ".py",
   "mimetype": "text/x-python",
   "name": "python",
   "nbconvert_exporter": "python",
   "pygments_lexer": "ipython3",
   "version": "3.6.3"
  }
 },
 "nbformat": 4,
 "nbformat_minor": 2
}

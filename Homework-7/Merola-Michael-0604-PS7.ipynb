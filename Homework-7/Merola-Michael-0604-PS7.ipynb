{
 "cells": [
  {
   "cell_type": "markdown",
   "metadata": {},
   "source": [
    "CSCI 3104 Spring 2018\n",
    "\n",
    "Problem Set 7\n",
    "\n",
    "Merola, Michael\n",
    "\n",
    "06/04/1998\n",
    "\n",
    "# Problem Set 7\n",
    "***"
   ]
  },
  {
   "cell_type": "code",
   "execution_count": 5,
   "metadata": {
    "collapsed": true
   },
   "outputs": [],
   "source": [
    "import pandas as pd\n",
    "import numpy as np\n",
    "import matplotlib.pylab as plt\n",
    "%matplotlib inline\n",
    "\n",
    "namedata_path = 'https://www2.census.gov/topics/genealogy/1990surnames/dist.all.last'"
   ]
  },
  {
   "cell_type": "markdown",
   "metadata": {},
   "source": [
    "### Problem 1\n",
    "\n",
    "(45 pts) Recall that the string alignment problem takes as\n",
    "    input two strings $x$ and $y$, composed of symbols\n",
    "    $x_i , y_j \\in \\Sigma$, for a fixed symbol set $\\Sigma$, and returns a\n",
    "    minimal-cost set of edit operations for transforming the string\n",
    "    $x$ into string $y$.\n",
    "\n",
    "  Let $x$ contain $n_x$ symbols, let $y$ contain $n_y$\n",
    "    symbols, and let the set of edit operations be those defined in\n",
    "    the lecture notes (substitution, insertion, deletion, and\n",
    "    transposition).\n",
    "\n",
    "  Let the cost of indel be 1, the cost of\n",
    "    swap be 13 (plus the cost of the two sub ops), and the\n",
    "    cost of sub be 12, except when $x_i = y_j$ , which is a\n",
    "    \"no-op\" and has cost 0.\n",
    "\n",
    "  In this problem, we will implement and apply three functions.\n",
    "  \n",
    "  ***"
   ]
  },
  {
   "cell_type": "markdown",
   "metadata": {},
   "source": [
    "### Problem 2\n",
    "\n",
    "(20 pts) Ron and Hermione are having a competition to see\n",
    "    who can compute the $n$th Pell number $P_n$ more quickly, without\n",
    "    resorting to magic. Recall that the $n$th Pell number is defined\n",
    "    as $P_n = 2 P_{n-1} + P_{n-2}$ for $n > 1$ with base cases\n",
    "    $P_0 = 0$ and $P_1 = 1$.  Ron opens with the classic recursive\n",
    "    algorithm:"
   ]
  },
  {
   "cell_type": "code",
   "execution_count": null,
   "metadata": {
    "collapsed": true
   },
   "outputs": [],
   "source": [
    "Pell(n):\n",
    "    \n",
    "    # BASE CASE\n",
    "    if (n == 0):\n",
    "        return 0 \n",
    "    elif (n == 1):\n",
    "        return 1\n",
    "    \n",
    "    # NEW\n",
    "    else:\n",
    "        return 2*Pell(n-1) + Pell(n-2) "
   ]
  },
  {
   "cell_type": "markdown",
   "metadata": {},
   "source": [
    "(a) Hermione counters with a dynamic programming\n",
    "approach that \"memoizes\" (a.k.a.  memorizes) the intermediate\n",
    "Pell numbers by storing them in an array $P[n]$. She claims\n",
    "this allows an algorithm to compute larger Pell numbers more\n",
    "quickly, and writes down the following algorithm."
   ]
  },
  {
   "cell_type": "code",
   "execution_count": null,
   "metadata": {
    "collapsed": true
   },
   "outputs": [],
   "source": [
    "MemPell(n):\n",
    "    \n",
    "    # BASE CASE\n",
    "    if (n == 0): \n",
    "        return 0\n",
    "    else if (n == 1):\n",
    "        return 1\n",
    "    \n",
    "    # NEW\n",
    "    else:\n",
    "        if (P[n] == undefined):\n",
    "            P[n] = 2*MemPell(n-1) + MemPell(n-2)\n",
    "        return P[n]\n"
   ]
  },
  {
   "cell_type": "markdown",
   "metadata": {},
   "source": [
    "(i) Describe the behavior of MemPell(n) in terms of a traversal of a computation tree. Describe how the array P is filled.\n",
    "\n",
    "***"
   ]
  },
  {
   "cell_type": "markdown",
   "metadata": {},
   "source": [
    "MemPell calculates the Pell number at n using a recursive computation tree. The root of the tree starts with MemPell(n) and branches each time on the left with MemPell(n-1) and on the right with MemPell(n-2). At each branch, the Pell number at n is calculated recursively and continues until the tree reaches the base case. Then each value is calculated as the tree returns through the branches. However, each value is only calculated once because the algorithm checks if there is no value at \"n\", and stores the Pell value  at *n* in the array. Because of this check, the computation tree \n",
    "does not need to recomputate redundant values and stays efficient.\n",
    "\n",
    "***"
   ]
  },
  {
   "cell_type": "markdown",
   "metadata": {},
   "source": [
    "(ii) Determine the asymptotic running time of MemPell. Prove your claim is correct by induction on the contents of the array."
   ]
  },
  {
   "cell_type": "code",
   "execution_count": null,
   "metadata": {
    "collapsed": true
   },
   "outputs": [],
   "source": []
  },
  {
   "cell_type": "code",
   "execution_count": null,
   "metadata": {
    "collapsed": true
   },
   "outputs": [],
   "source": []
  },
  {
   "cell_type": "markdown",
   "metadata": {},
   "source": [
    "# Sources\n",
    "***\n",
    "### People\n",
    "Krish Dholakiya\n",
    "\n",
    "Gustav Solis\n",
    "\n",
    "***"
   ]
  },
  {
   "cell_type": "code",
   "execution_count": null,
   "metadata": {
    "collapsed": true
   },
   "outputs": [],
   "source": []
  }
 ],
 "metadata": {
  "kernelspec": {
   "display_name": "Python 3",
   "language": "python",
   "name": "python3"
  },
  "language_info": {
   "codemirror_mode": {
    "name": "ipython",
    "version": 3
   },
   "file_extension": ".py",
   "mimetype": "text/x-python",
   "name": "python",
   "nbconvert_exporter": "python",
   "pygments_lexer": "ipython3",
   "version": "3.6.3"
  }
 },
 "nbformat": 4,
 "nbformat_minor": 2
}

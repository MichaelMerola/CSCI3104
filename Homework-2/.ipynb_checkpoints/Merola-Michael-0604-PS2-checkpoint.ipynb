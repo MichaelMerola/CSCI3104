{
 "cells": [
  {
   "cell_type": "markdown",
   "metadata": {},
   "source": [
    "CSCI 3104 Spring 2018\n",
    "\n",
    "Problem Set 2\n",
    "\n",
    "Merola, Michael\n",
    "\n",
    "06/04/1998\n",
    "\n",
    "# Problem Set 2\n",
    "***"
   ]
  },
  {
   "cell_type": "markdown",
   "metadata": {},
   "source": [
    "### Problem 1\n",
    "\n",
    "(20 pts total) Solve the following recurrence relations using any of the following methods: unrolling, tail recursion, recurrence tree (include tree diagram), or expansion.\n",
    "Each each case, show your work.\n",
    "***"
   ]
  },
  {
   "cell_type": "markdown",
   "metadata": {},
   "source": [
    "(a) $T(n) = T(n − 2) + C(n)$ if n > 1, and T(n) = C otherwise"
   ]
  },
  {
   "cell_type": "markdown",
   "metadata": {},
   "source": [
    "    T(n) = T(n−2) + C(n)\n",
    "         = T(n-2-2) + C(n-2) + C(n)\n",
    "         = T(n-2-2-2) + C(n-4) + C(n-2) + C(n)\n",
    "         = T(n-2-2-2-2) + C(n-6) + C(n-4) + C(n-2) + C(n)\n",
    "         ...\n",
    "$= C + \\sum_{i=0}^{n} C(n-2i)$ \n",
    "\n",
    "$= \\sum_{i=0}^{n} C(n) + \\sum_{i=0}^{n} -C(2i)$ ......split into two sums, constant irrelevant in asymptopia\n",
    "\n",
    "$= C - 2C\\sum_{i=0}^{n} i $ ......pull constants outside of sum\n",
    "\n",
    "$= \\sum_{i=0}^{n} i = \\frac{n(n+1)}{2}$\n",
    "\n",
    "$= \\Theta{(n^{2})}$ \n",
    "\n",
    "***"
   ]
  },
  {
   "cell_type": "markdown",
   "metadata": {},
   "source": [
    "(b) $T(n) = 3T(n − 1) + 1$ if n > 1, and T(1) = 3"
   ]
  },
  {
   "cell_type": "markdown",
   "metadata": {},
   "source": [
    "    T(n) = 3T(n−1) + 1\n",
    "         = 9T(n-1-1) + (3*1) + 1\n",
    "         = 27T(n-1-1-1) + (3*3*1) + (3*1) + 1\n",
    "         ...\n",
    "$= 3^{n} * T(1) + 3 + 3^{2} + 3^{3} + ... + 3^{n}$ ......eventually reach base case as we go to infinity\n",
    "\n",
    "$= 3^{n} * (3) + 3 + 3^{2} + 3^{3} + ... + 3^{n}$ ......plug in base case T(1) = 3\n",
    "\n",
    "$= 3^{n} * (3) +\\sum_{i=0}^{n} 3^{i}$ ......constants become irrelevant at infinity\n",
    "\n",
    "$= \\Theta{(3^{n})}$\n",
    "***"
   ]
  },
  {
   "cell_type": "markdown",
   "metadata": {},
   "source": [
    "(c) $T(n) = T(n − 1) + 3^{n}$ if n > 1, and T(1) = 3"
   ]
  },
  {
   "cell_type": "markdown",
   "metadata": {},
   "source": [
    "$T(n) = T(n−1) + 3^{n}$\n",
    "\n",
    "$= T(n-2) + 3^{n-1} + 3^{n}$ ......recurrence unrolling\n",
    "\n",
    "$= T(n-3) + 3^{n-2} + 3^{n-1} + 3^{n}$\n",
    "\n",
    "...\n",
    "\n",
    "$= T(1) + 3^{2} + 3^{3} + ... + 3^{n}$ ......eventually reach base case as we go to infinity\n",
    "\n",
    "$= 3 + 3^{2} + 3^{3} + ... + 3^{n}$ ......plug in base case T(1) = 3\n",
    "         \n",
    "$= \\sum_{i=1}^{n} 3^{i} $ ......establish sum\n",
    "\n",
    "$= \\frac{1-3^{n+1}}{2} = \\Theta{(3^{n})}$\n",
    "***"
   ]
  },
  {
   "cell_type": "markdown",
   "metadata": {},
   "source": [
    "(d) $T(n) = T(n^{\\frac{1}{4}}) + 1$ if n > 2 , and T(n) = 0 otherwise"
   ]
  },
  {
   "cell_type": "markdown",
   "metadata": {},
   "source": [
    "$T(n) = T(n^{\\frac{1}{4}}) + 1$\n",
    "\n",
    "$= T(n^{\\frac{1}{16}} + n^{\\frac{1}{4}}) + 1$ ......recurrence unrolling\n",
    "\n",
    "$= T(n^{\\frac{1}{64}} + n^{\\frac{1}{16}} + n^{\\frac{1}{4}}) + 1$\n",
    "\n",
    "...\n",
    "\n",
    "$= T(1) + \\sum_{i=1}^{n} n^{\\frac{1}{4^{i}}} + 1$ ......eventually reach base case as we go to infinity\n",
    "\n",
    "$= 0 + \\sum_{i=1}^{n} n^{\\frac{1}{4^{i}}} + 1$ ......plug in base case T(n) = 0\n",
    "         \n",
    "$ = \\Theta{(log(n))}$\n",
    "***"
   ]
  },
  {
   "cell_type": "markdown",
   "metadata": {},
   "source": [
    "\n",
    "### Problem 2\n",
    "\n",
    "(10 pts) Consider the following function:"
   ]
  },
  {
   "cell_type": "code",
   "execution_count": 2,
   "metadata": {},
   "outputs": [],
   "source": [
    "def foo(n):\n",
    "    if (n > 1):\n",
    "        print(\"hello\")\n",
    "        foo(n/3)\n",
    "        foo(n/3)"
   ]
  },
  {
   "cell_type": "markdown",
   "metadata": {},
   "source": [
    "In terms of the input n, determine how many times is _hello_ printed. Write down a recurrence and solve using the Master method.\n",
    "***"
   ]
  },
  {
   "cell_type": "markdown",
   "metadata": {},
   "source": [
    "**Master Method** - $a*T(\\frac{n}{b})+f(n)$ and $\\log_b{a}$ \n",
    "\n",
    "a = 2     - recursive call foo 2 times every iteration\n",
    "\n",
    "b = 3     - recursive input divides n by 3 every iteration\n",
    "\n",
    "f(n) = 1  - print(hello) does not rely on n\n",
    "\n",
    "$T(n) = 2T(\\frac{n}{3}) + 1$\n",
    "\n",
    "$\\log_3{2} = 0.6$\n",
    "\n",
    "$\\epsilon > 0$ because f(n) is 1\n",
    "\n",
    "$T(n) = \\Theta(n^{0.6})$\n",
    "***"
   ]
  },
  {
   "cell_type": "markdown",
   "metadata": {},
   "source": [
    "\n",
    "### Problem 3\n",
    "\n",
    "(30 pts) Professor McGonagall asks you to help her with some arrays that are raludominular. A raludominular array has the property that the subarray A[1::i] has the property that A[j] > A[j + 1] for 1 ≤ j < i, and the subarray A[i::n] has the property that A[j] < A[j + 1] for i ≤ j < n. Using her wand, McGonagall writes the following raludominular array on the board A = [7, 6, 4, −1, −2, −9, −5, −3, 10, 13], as an example.\n",
    "\n",
    "Write a recursive algorithm that takes asymptotically sub-linear time to find the minimum element of A.\n",
    "***"
   ]
  },
  {
   "cell_type": "markdown",
   "metadata": {},
   "source": [
    "(a) Write a recursive algorithm that takes asymptotically sub-linear time to find the\n",
    "minimum element of A."
   ]
  },
  {
   "cell_type": "code",
   "execution_count": 7,
   "metadata": {},
   "outputs": [],
   "source": [
    "def findMin_init():\n",
    "    A = [7, 6, 4, -1, -2, -9, -5, -3, 10, 13]\n",
    "    findMin(A, 0, length(A))\n",
    "    \n",
    "def findMin(A, left, right):\n",
    "    cut = floor(left + right / 2)\n",
    "    if (A[cut] > A[cut + 1]):  #if the value at cut is greater than the next value, array is decreasing\n",
    "        findMin(A, cut, right) #enter right half\n",
    "    elif (A[cut] > A[cut - 1]):#if the value at cut is greater than the last value, array is increasing\n",
    "        findMin(A, left, cut)  #enter left half\n",
    "    else:\n",
    "        return A[cut]"
   ]
  },
  {
   "cell_type": "markdown",
   "metadata": {},
   "source": [
    "(b) Prove that your algorithm is correct. (Hint: prove that your algorithm’s correctness follows from the correctness of another correct algorithm we already know.)"
   ]
  },
  {
   "cell_type": "markdown",
   "metadata": {},
   "source": [
    "**Loop Invariant:**\tIf v is the min in A, then v must always be between A[left] and A[right] or less than both of them (A[left] > v < A[right])\n",
    "\n",
    "**Initialization:**\t\tv is a value in array A with bounds left = 0 and right = length(A) ; so (A[left] <= v <= A[right])\n",
    "    \n",
    "**Maintenance:**\t\tDuring every recursion, the bounds reduce by half.\n",
    "\n",
    "                    If A[cut] > A[cut + 1], then it is between bounds cut and right\n",
    "                    If A[cut] > A[cut - 1], then it is between bounds left and cut\n",
    "                    If A[cut] < then the other elements, then the algorithm terminates and v is the minimum.\n",
    "                    \n",
    "**Termination:**\t\tThe bounds left and right eventually converge on the smallest value based on a raludominular sequence.\n",
    "\n",
    "***"
   ]
  },
  {
   "cell_type": "markdown",
   "metadata": {},
   "source": [
    "(c) Now consider the multi-raludominular generalization, in which the array contains\n",
    "k local minima, i.e., it contains k subarrays, each of which is itself a raludominular\n",
    "array. Let k = 2 and prove that your algorithm can fail on such an input."
   ]
  },
  {
   "cell_type": "markdown",
   "metadata": {},
   "source": [
    "$A = [6, 4, 2, 5, 7, 16, 14, 13, 12, 15, 17] = [6, 4, 2, 5, 7, 16]+[14, 13, 12, 15, 17]$ ...two raludominular subarrays\n",
    "\n",
    "min = 5, 12\n",
    " \n",
    "**Counter-Example:**\n",
    "\n",
    "    1) cut = A[5] == 16\n",
    "    2) A[cut] > A[cut + 1] == 16 > 14  **enters right half even though 16 is also greater than 7\n",
    "    3) cut2 == 13\n",
    "    4) A[cut2] > A[cut2 + 1] == 13 > 12 **enters right half again\n",
    "    5) Algorithm determines 12 is the minimum value in A\n",
    "    \n",
    "The algorithm fails to return 5 as the minimum value of A because it is designed to find the minimum in the pattern of one raludominular array. The algorithm greedily chooses the next index to compare as the greatest in step (2), so it completely overlooks the minimum in the left half of A.\n",
    "***"
   ]
  },
  {
   "cell_type": "markdown",
   "metadata": {},
   "source": [
    "(d) Suppose that k = 2 and we can guarantee that neither local minimum is closer\n",
    "than n=3 positions to the middle of the array, and that the joining point of the\n",
    "two singly-raludominular subarrays lays in the middle third of the array. Now\n",
    "write an algorithm that returns the minimum element of A in sublinear time.\n",
    "Prove that your algorithm is correct, give a recurrence relation for its running\n",
    "time, and solve for its asymptotic behavior."
   ]
  },
  {
   "cell_type": "markdown",
   "metadata": {},
   "source": [
    "$A = [6, 4, 2, 5, 7, 16, 18, 14, 13, 12, 15, 17]$ ...Ideal k=2 multi-randominular array\n",
    "\n",
    "I don't know how to do this problem.\n",
    "***"
   ]
  },
  {
   "cell_type": "markdown",
   "metadata": {},
   "source": [
    "### Problem 4 \n",
    "\n",
    "(15 pts extra credit)\n",
    "Asymptotic relations like O, Ω, and Θ represent relationships between functions, and\n",
    "these relationships are transitive. That is, if some f(n) = Ω(g(n)), and g(n) = Ω(h(n)),\n",
    "then it is also true that f(n) = Ω(h(n)). This means that we can sort functions by\n",
    "their asymptotic growth.\n",
    "\n",
    "Sort the following functions by order of asymptotic growth such that the final arrangement of functions g1, g2, ..., g11 = Ω(g12).\n",
    "\n",
    "Give the final sorted list and identify which pair(s) functions f(n), g(n), if any, are in\n",
    "the same equivalence class, i.e., f(n) = Θ(g(n)).\n",
    "***"
   ]
  },
  {
   "cell_type": "markdown",
   "metadata": {},
   "source": [
    "**Fastest Growth** \n",
    "    \n",
    "$n!,$\n",
    "\n",
    "$e^{n},$\n",
    "\n",
    "$(\\frac{5}{4})^{n},$\n",
    "\n",
    "$n^{1.5},$\n",
    "\n",
    "$n\\log(n) = \\Theta(\\log(n!)),$\n",
    "\n",
    "$n,$\n",
    "\n",
    "$8^{log(n)},$\n",
    "\n",
    "$n^{\\frac{1}{log(n)}},$\n",
    "\n",
    "$4^{\\log*(n)},$\n",
    "\n",
    "$42$\n",
    "\n",
    "**Slowest Growth**\n",
    "***"
   ]
  },
  {
   "cell_type": "markdown",
   "metadata": {},
   "source": [
    "# Sources\n",
    "***\n",
    "### People\n",
    "Krish Dholakiya\n",
    "\n",
    "Gustav Solis\n",
    "\n",
    "George Allison\n",
    "\n",
    "Eric Oropezaelwood\n",
    "\n",
    "Erika Bailon"
   ]
  }
 ],
 "metadata": {
  "kernelspec": {
   "display_name": "Python 3",
   "language": "python",
   "name": "python3"
  },
  "language_info": {
   "codemirror_mode": {
    "name": "ipython",
    "version": 3
   },
   "file_extension": ".py",
   "mimetype": "text/x-python",
   "name": "python",
   "nbconvert_exporter": "python",
   "pygments_lexer": "ipython3",
   "version": "3.6.3"
  }
 },
 "nbformat": 4,
 "nbformat_minor": 2
}
